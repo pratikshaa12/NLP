{
  "nbformat": 4,
  "nbformat_minor": 0,
  "metadata": {
    "colab": {
      "provenance": [],
      "include_colab_link": true
    },
    "kernelspec": {
      "name": "python3",
      "display_name": "Python 3"
    },
    "language_info": {
      "name": "python"
    }
  },
  "cells": [
    {
      "cell_type": "markdown",
      "metadata": {
        "id": "view-in-github",
        "colab_type": "text"
      },
      "source": [
        "<a href=\"https://colab.research.google.com/github/pratikshaa12/NLP/blob/main/LSA.ipynb\" target=\"_parent\"><img src=\"https://colab.research.google.com/assets/colab-badge.svg\" alt=\"Open In Colab\"/></a>"
      ]
    },
    {
      "cell_type": "markdown",
      "source": [
        "#### LSA(Latent Semantic Analysis)"
      ],
      "metadata": {
        "id": "9_q8c6wD_RhU"
      }
    },
    {
      "cell_type": "code",
      "source": [
        "import nltk\n",
        "\n",
        "nltk.download('brown')"
      ],
      "metadata": {
        "colab": {
          "base_uri": "https://localhost:8080/"
        },
        "id": "MCfT64vhJAZW",
        "outputId": "44e30151-ec54-4ca2-de96-f1e9af09505b"
      },
      "execution_count": 3,
      "outputs": [
        {
          "output_type": "stream",
          "name": "stderr",
          "text": [
            "[nltk_data] Downloading package brown to /root/nltk_data...\n",
            "[nltk_data]   Unzipping corpora/brown.zip.\n"
          ]
        },
        {
          "output_type": "execute_result",
          "data": {
            "text/plain": [
              "True"
            ]
          },
          "metadata": {},
          "execution_count": 3
        }
      ]
    },
    {
      "cell_type": "code",
      "source": [
        "from nltk.corpus import brown"
      ],
      "metadata": {
        "id": "qU-lZD9OI7W6"
      },
      "execution_count": 4,
      "outputs": []
    },
    {
      "cell_type": "code",
      "source": [
        "brown.words(categories='news')"
      ],
      "metadata": {
        "id": "zRshLBNFyFH1",
        "colab": {
          "base_uri": "https://localhost:8080/"
        },
        "outputId": "1d1e9739-17a5-4b67-fc91-be4afbe73133"
      },
      "execution_count": 5,
      "outputs": [
        {
          "output_type": "execute_result",
          "data": {
            "text/plain": [
              "['The', 'Fulton', 'County', 'Grand', 'Jury', 'said', ...]"
            ]
          },
          "metadata": {},
          "execution_count": 5
        }
      ]
    },
    {
      "cell_type": "code",
      "source": [
        "from sklearn.feature_extraction.text import TfidfVectorizer\n"
      ],
      "metadata": {
        "id": "sdzpw2ekyWxO"
      },
      "execution_count": 6,
      "outputs": []
    },
    {
      "cell_type": "code",
      "source": [
        "# read the data from the Brown corpus\n",
        "data = ' '.join(brown.words()[:10000])"
      ],
      "metadata": {
        "id": "1Wy1n6b-ysKR"
      },
      "execution_count": 7,
      "outputs": []
    },
    {
      "cell_type": "code",
      "source": [
        "TextCorpus = ['Seven continent planet',\n",
        "              'Five ocean planet',\n",
        "              'Asia largest continent',\n",
        "              'Pacific Ocean largest',\n",
        "              'Ocean saline water']\n",
        "\n",
        "text_tokens = [sent.split() for sent in TextCorpus]\n",
        "print(text_tokens)"
      ],
      "metadata": {
        "id": "VFQpTbyCysG3",
        "colab": {
          "base_uri": "https://localhost:8080/"
        },
        "outputId": "597fd24d-b587-4caf-f4ae-57003b374d67"
      },
      "execution_count": 8,
      "outputs": [
        {
          "output_type": "stream",
          "name": "stdout",
          "text": [
            "[['Seven', 'continent', 'planet'], ['Five', 'ocean', 'planet'], ['Asia', 'largest', 'continent'], ['Pacific', 'Ocean', 'largest'], ['Ocean', 'saline', 'water']]\n"
          ]
        }
      ]
    },
    {
      "cell_type": "code",
      "source": [
        "from sklearn.feature_extraction.text import TfidfVectorizer"
      ],
      "metadata": {
        "id": "UPULIVW50B1u"
      },
      "execution_count": 11,
      "outputs": []
    },
    {
      "cell_type": "code",
      "source": [
        "transformer = TfidfVectorizer()\n",
        "tfidf = transformer.fit_transform(TextCorpus)"
      ],
      "metadata": {
        "id": "2fYfjGdZysEK"
      },
      "execution_count": 12,
      "outputs": []
    },
    {
      "cell_type": "code",
      "source": [
        "print(tfidf)\n",
        "#(document number, term number)"
      ],
      "metadata": {
        "id": "2BUW_b8jysBc",
        "colab": {
          "base_uri": "https://localhost:8080/"
        },
        "outputId": "ab2e60ae-1263-4594-9d8d-5c77e355806c"
      },
      "execution_count": 13,
      "outputs": [
        {
          "output_type": "stream",
          "name": "stdout",
          "text": [
            "  (0, 8)\t0.6591180018251055\n",
            "  (0, 1)\t0.5317722537280788\n",
            "  (0, 6)\t0.5317722537280788\n",
            "  (1, 6)\t0.5568161504458247\n",
            "  (1, 2)\t0.6901592662889633\n",
            "  (1, 4)\t0.46220770413113277\n",
            "  (2, 1)\t0.5317722537280788\n",
            "  (2, 0)\t0.6591180018251055\n",
            "  (2, 3)\t0.5317722537280788\n",
            "  (3, 4)\t0.46220770413113277\n",
            "  (3, 3)\t0.5568161504458247\n",
            "  (3, 5)\t0.6901592662889633\n",
            "  (4, 4)\t0.42799292268317357\n",
            "  (4, 7)\t0.6390704413963749\n",
            "  (4, 9)\t0.6390704413963749\n"
          ]
        }
      ]
    },
    {
      "cell_type": "code",
      "source": [
        "from sklearn.decomposition import TruncatedSVD\n",
        "svd= TruncatedSVD(n_components = 3)\n",
        "lsa= svd.fit_transform(tfidf)"
      ],
      "metadata": {
        "id": "LzWrviXWyr-G"
      },
      "execution_count": 14,
      "outputs": []
    },
    {
      "cell_type": "code",
      "source": [
        "lsa"
      ],
      "metadata": {
        "id": "Jq572QiY0pYq",
        "colab": {
          "base_uri": "https://localhost:8080/"
        },
        "outputId": "9064a0d2-21bb-4385-9f0d-05b2bbebc7cc"
      },
      "execution_count": 15,
      "outputs": [
        {
          "output_type": "execute_result",
          "data": {
            "text/plain": [
              "array([[ 5.69995606e-01,  5.21026572e-01,  4.81700519e-01],\n",
              "       [ 6.29788097e-01, -2.47716942e-01,  5.41216825e-01],\n",
              "       [ 5.69995606e-01,  5.21026572e-01, -4.81700519e-01],\n",
              "       [ 6.29788097e-01, -2.47716942e-01, -5.41216825e-01],\n",
              "       [ 4.08516626e-01, -6.90173499e-01, -1.06404184e-14]])"
            ]
          },
          "metadata": {},
          "execution_count": 15
        }
      ]
    },
    {
      "cell_type": "code",
      "source": [],
      "metadata": {
        "id": "BEVv1X9nyr7W"
      },
      "execution_count": null,
      "outputs": []
    }
  ]
}