{
  "nbformat": 4,
  "nbformat_minor": 0,
  "metadata": {
    "colab": {
      "provenance": [],
      "authorship_tag": "ABX9TyO0CpFihEHMPSOyYrAOlsNL",
      "include_colab_link": true
    },
    "kernelspec": {
      "name": "python3",
      "display_name": "Python 3"
    },
    "language_info": {
      "name": "python"
    }
  },
  "cells": [
    {
      "cell_type": "markdown",
      "metadata": {
        "id": "view-in-github",
        "colab_type": "text"
      },
      "source": [
        "<a href=\"https://colab.research.google.com/github/pratikshaa12/NLP/blob/main/Word_Embedding_part_2.ipynb\" target=\"_parent\"><img src=\"https://colab.research.google.com/assets/colab-badge.svg\" alt=\"Open In Colab\"/></a>"
      ]
    },
    {
      "cell_type": "markdown",
      "source": [
        "### Word2Vec"
      ],
      "metadata": {
        "id": "wN1PVUOxWezr"
      }
    },
    {
      "cell_type": "code",
      "execution_count": 17,
      "metadata": {
        "colab": {
          "base_uri": "https://localhost:8080/"
        },
        "id": "FLlEKGKoWS3b",
        "outputId": "fc8d182a-dd83-49f4-fe75-40360c1a673f"
      },
      "outputs": [
        {
          "output_type": "stream",
          "name": "stderr",
          "text": [
            "[nltk_data] Downloading package punkt_tab to /root/nltk_data...\n",
            "[nltk_data]   Package punkt_tab is already up-to-date!\n",
            "[nltk_data] Downloading package stopwords to /root/nltk_data...\n",
            "[nltk_data]   Unzipping corpora/stopwords.zip.\n"
          ]
        },
        {
          "output_type": "execute_result",
          "data": {
            "text/plain": [
              "True"
            ]
          },
          "metadata": {},
          "execution_count": 17
        }
      ],
      "source": [
        "import re\n",
        "import nltk\n",
        "import string\n",
        "from gensim.models import Word2Vec\n",
        "from nltk.corpus import stopwords\n",
        "import matplotlib.pyplot as plt\n",
        "%matplotlib inline\n",
        "\n",
        "nltk.download('punkt_tab')\n",
        "nltk.download('stopwords')\n",
        ""
      ]
    },
    {
      "cell_type": "code",
      "source": [
        "paragraph =\"\"\"I have three visions for India. In 3000 years of our history, people from all over\n",
        "               the world have come and invaded us, captured our lands, conquered our minds.\n",
        "               From Alexander onwards, the Greeks, the Turks, the Moguls, the Portuguese, the British,\n",
        "               the French, the Dutch, all of them came and looted us, took over what was ours.\n",
        "               Yet we have not done this to any other nation. We have not conquered anyone.\n",
        "               We have not grabbed their land, their culture,\n",
        "               their history and tried to enforce our way of life on them.\n",
        "               Why? Because we respect the freedom of others.That is why my\n",
        "               first vision is that of freedom. I believe that India got its first vision of\n",
        "               this in 1857, when we started the War of Independence. It is this freedom that\n",
        "               we must protect and nurture and build on. If we are not free, no one will respect us.\n",
        "               My second vision for India’s development. For fifty years we have been a developing nation.\n",
        "               It is time we see ourselves as a developed nation. We are among the top 5 nations of the world\n",
        "               in terms of GDP. We have a 10 percent growth rate in most areas. Our poverty levels are falling.\n",
        "               Our achievements are being globally recognised today. Yet we lack the self-confidence tosee ourselves as a developed nation, self-reliant and self-assured. Isn’t this incorrect?\n",
        "               I have a third vision. India must stand up to the world. Because I believe that unless India\n",
        "               stands up to the world, no one will respect us. Only strength respects strength. We must be\n",
        "               strong not only as a military power but also as an economic power. Both must go hand-in-hand.\n",
        "               My good fortune was to have worked with three great minds. Dr. Vikram Sarabhai of the Dept. of\n",
        "               space, Professor Satish Dhawan, who succeeded him and Dr. Brahm Prakash, father of nuclear material.\n",
        "               I was lucky to have worked with all three of them closely and consider this the great opportunity of my life.\n",
        "               I see four milestones in my career\"\"\"\n"
      ],
      "metadata": {
        "id": "3M5Dfpnxex4a"
      },
      "execution_count": 9,
      "outputs": []
    },
    {
      "cell_type": "code",
      "source": [
        "#preprocessing the data\n",
        "paragraph=paragraph.translate(str.maketrans('','',string.punctuation))\n",
        "text=re.sub(r'\\[[0-9]*\\]',' ',paragraph)\n",
        "text=re.sub(r'\\s+',' ',text)\n",
        "\n",
        "text=text.lower()\n",
        "text=re.sub(r'\\d',' ',text)\n",
        "text=re.sub(r'\\s+',' ',text)\n",
        "text\n",
        "\n"
      ],
      "metadata": {
        "colab": {
          "base_uri": "https://localhost:8080/",
          "height": 139
        },
        "id": "Rwp_kNoPWiX9",
        "outputId": "5a2fb9fb-0b8a-4bd8-9632-bd434e98f0d7"
      },
      "execution_count": 10,
      "outputs": [
        {
          "output_type": "execute_result",
          "data": {
            "text/plain": [
              "'i have three visions for india in years of our history people from all over the world have come and invaded us captured our lands conquered our minds from alexander onwards the greeks the turks the moguls the portuguese the british the french the dutch all of them came and looted us took over what was ours yet we have not done this to any other nation we have not conquered anyone we have not grabbed their land their culture their history and tried to enforce our way of life on them why because we respect the freedom of othersthat is why my first vision is that of freedom i believe that india got its first vision of this in when we started the war of independence it is this freedom that we must protect and nurture and build on if we are not free no one will respect us my second vision for india’s development for fifty years we have been a developing nation it is time we see ourselves as a developed nation we are among the top nations of the world in terms of gdp we have a percent growth rate in most areas our poverty levels are falling our achievements are being globally recognised today yet we lack the selfconfidence tosee ourselves as a developed nation selfreliant and selfassured isn’t this incorrect i have a third vision india must stand up to the world because i believe that unless india stands up to the world no one will respect us only strength respects strength we must be strong not only as a military power but also as an economic power both must go handinhand my good fortune was to have worked with three great minds dr vikram sarabhai of the dept of space professor satish dhawan who succeeded him and dr brahm prakash father of nuclear material i was lucky to have worked with all three of them closely and consider this the great opportunity of my life i see four milestones in my career'"
            ],
            "application/vnd.google.colaboratory.intrinsic+json": {
              "type": "string"
            }
          },
          "metadata": {},
          "execution_count": 10
        }
      ]
    },
    {
      "cell_type": "code",
      "source": [
        "#praparing the dataset\n",
        "sentences=nltk.sent_tokenize(text)\n",
        "sentences"
      ],
      "metadata": {
        "colab": {
          "base_uri": "https://localhost:8080/"
        },
        "id": "0_MCNprKWiat",
        "outputId": "88513be2-eb6a-44af-a359-65e5b3172cde"
      },
      "execution_count": 13,
      "outputs": [
        {
          "output_type": "execute_result",
          "data": {
            "text/plain": [
              "['i have three visions for india in years of our history people from all over the world have come and invaded us captured our lands conquered our minds from alexander onwards the greeks the turks the moguls the portuguese the british the french the dutch all of them came and looted us took over what was ours yet we have not done this to any other nation we have not conquered anyone we have not grabbed their land their culture their history and tried to enforce our way of life on them why because we respect the freedom of othersthat is why my first vision is that of freedom i believe that india got its first vision of this in when we started the war of independence it is this freedom that we must protect and nurture and build on if we are not free no one will respect us my second vision for india’s development for fifty years we have been a developing nation it is time we see ourselves as a developed nation we are among the top nations of the world in terms of gdp we have a percent growth rate in most areas our poverty levels are falling our achievements are being globally recognised today yet we lack the selfconfidence tosee ourselves as a developed nation selfreliant and selfassured isn’t this incorrect i have a third vision india must stand up to the world because i believe that unless india stands up to the world no one will respect us only strength respects strength we must be strong not only as a military power but also as an economic power both must go handinhand my good fortune was to have worked with three great minds dr vikram sarabhai of the dept of space professor satish dhawan who succeeded him and dr brahm prakash father of nuclear material i was lucky to have worked with all three of them closely and consider this the great opportunity of my life i see four milestones in my career']"
            ]
          },
          "metadata": {},
          "execution_count": 13
        }
      ]
    },
    {
      "cell_type": "code",
      "source": [
        "sent_word=[nltk.word_tokenize(sentence) for sentence in sentences]\n",
        "print(sent_word)"
      ],
      "metadata": {
        "colab": {
          "base_uri": "https://localhost:8080/"
        },
        "id": "UzjkbnIuWidh",
        "outputId": "67dfff54-8335-48fe-f08f-1c5953612e56"
      },
      "execution_count": 14,
      "outputs": [
        {
          "output_type": "stream",
          "name": "stdout",
          "text": [
            "[['i', 'have', 'three', 'visions', 'for', 'india', 'in', 'years', 'of', 'our', 'history', 'people', 'from', 'all', 'over', 'the', 'world', 'have', 'come', 'and', 'invaded', 'us', 'captured', 'our', 'lands', 'conquered', 'our', 'minds', 'from', 'alexander', 'onwards', 'the', 'greeks', 'the', 'turks', 'the', 'moguls', 'the', 'portuguese', 'the', 'british', 'the', 'french', 'the', 'dutch', 'all', 'of', 'them', 'came', 'and', 'looted', 'us', 'took', 'over', 'what', 'was', 'ours', 'yet', 'we', 'have', 'not', 'done', 'this', 'to', 'any', 'other', 'nation', 'we', 'have', 'not', 'conquered', 'anyone', 'we', 'have', 'not', 'grabbed', 'their', 'land', 'their', 'culture', 'their', 'history', 'and', 'tried', 'to', 'enforce', 'our', 'way', 'of', 'life', 'on', 'them', 'why', 'because', 'we', 'respect', 'the', 'freedom', 'of', 'othersthat', 'is', 'why', 'my', 'first', 'vision', 'is', 'that', 'of', 'freedom', 'i', 'believe', 'that', 'india', 'got', 'its', 'first', 'vision', 'of', 'this', 'in', 'when', 'we', 'started', 'the', 'war', 'of', 'independence', 'it', 'is', 'this', 'freedom', 'that', 'we', 'must', 'protect', 'and', 'nurture', 'and', 'build', 'on', 'if', 'we', 'are', 'not', 'free', 'no', 'one', 'will', 'respect', 'us', 'my', 'second', 'vision', 'for', 'india', '’', 's', 'development', 'for', 'fifty', 'years', 'we', 'have', 'been', 'a', 'developing', 'nation', 'it', 'is', 'time', 'we', 'see', 'ourselves', 'as', 'a', 'developed', 'nation', 'we', 'are', 'among', 'the', 'top', 'nations', 'of', 'the', 'world', 'in', 'terms', 'of', 'gdp', 'we', 'have', 'a', 'percent', 'growth', 'rate', 'in', 'most', 'areas', 'our', 'poverty', 'levels', 'are', 'falling', 'our', 'achievements', 'are', 'being', 'globally', 'recognised', 'today', 'yet', 'we', 'lack', 'the', 'selfconfidence', 'tosee', 'ourselves', 'as', 'a', 'developed', 'nation', 'selfreliant', 'and', 'selfassured', 'isn', '’', 't', 'this', 'incorrect', 'i', 'have', 'a', 'third', 'vision', 'india', 'must', 'stand', 'up', 'to', 'the', 'world', 'because', 'i', 'believe', 'that', 'unless', 'india', 'stands', 'up', 'to', 'the', 'world', 'no', 'one', 'will', 'respect', 'us', 'only', 'strength', 'respects', 'strength', 'we', 'must', 'be', 'strong', 'not', 'only', 'as', 'a', 'military', 'power', 'but', 'also', 'as', 'an', 'economic', 'power', 'both', 'must', 'go', 'handinhand', 'my', 'good', 'fortune', 'was', 'to', 'have', 'worked', 'with', 'three', 'great', 'minds', 'dr', 'vikram', 'sarabhai', 'of', 'the', 'dept', 'of', 'space', 'professor', 'satish', 'dhawan', 'who', 'succeeded', 'him', 'and', 'dr', 'brahm', 'prakash', 'father', 'of', 'nuclear', 'material', 'i', 'was', 'lucky', 'to', 'have', 'worked', 'with', 'all', 'three', 'of', 'them', 'closely', 'and', 'consider', 'this', 'the', 'great', 'opportunity', 'of', 'my', 'life', 'i', 'see', 'four', 'milestones', 'in', 'my', 'career']]\n"
          ]
        }
      ]
    },
    {
      "cell_type": "code",
      "source": [
        "punc=string.punctuation\n",
        "punc"
      ],
      "metadata": {
        "colab": {
          "base_uri": "https://localhost:8080/",
          "height": 35
        },
        "id": "GuShzzsOWigg",
        "outputId": "71aa0b16-2699-4577-e9e5-54bd2520bf0d"
      },
      "execution_count": 15,
      "outputs": [
        {
          "output_type": "execute_result",
          "data": {
            "text/plain": [
              "'!\"#$%&\\'()*+,-./:;<=>?@[\\\\]^_`{|}~'"
            ],
            "application/vnd.google.colaboratory.intrinsic+json": {
              "type": "string"
            }
          },
          "metadata": {},
          "execution_count": 15
        }
      ]
    },
    {
      "cell_type": "code",
      "source": [
        "len(sent_word)"
      ],
      "metadata": {
        "colab": {
          "base_uri": "https://localhost:8080/"
        },
        "id": "g1vsRI8gfgtF",
        "outputId": "b9cccc4e-1242-4851-dceb-d859860d1ff8"
      },
      "execution_count": 20,
      "outputs": [
        {
          "output_type": "execute_result",
          "data": {
            "text/plain": [
              "1"
            ]
          },
          "metadata": {},
          "execution_count": 20
        }
      ]
    },
    {
      "cell_type": "code",
      "source": [
        "for i in range(len(sent_word)):\n",
        "  sent_word[i] = [word for word in sent_word[i]\n",
        "                  if word not in stopwords.words('english') if word not in punc]"
      ],
      "metadata": {
        "id": "x0I5TxbEWijf"
      },
      "execution_count": 18,
      "outputs": []
    },
    {
      "cell_type": "code",
      "source": [
        "# training the word2vec model\n",
        "model=Word2Vec(sent_word, min_count=1)\n",
        "words=model.wv.key_to_index"
      ],
      "metadata": {
        "id": "OyUScOHkZHpX"
      },
      "execution_count": 22,
      "outputs": []
    },
    {
      "cell_type": "code",
      "source": [
        "# test the word vectors\n",
        "vector= model.wv['dutch']\n",
        "print(vector)"
      ],
      "metadata": {
        "colab": {
          "base_uri": "https://localhost:8080/"
        },
        "id": "rsz694MrZHm2",
        "outputId": "d2a88083-5c9d-445f-eae9-a129df59624f"
      },
      "execution_count": 23,
      "outputs": [
        {
          "output_type": "stream",
          "name": "stdout",
          "text": [
            "[-1.1701641e-03 -2.3650704e-03 -1.8325277e-03 -1.1882801e-03\n",
            " -6.4870226e-03 -3.5666951e-03 -3.1749539e-03  7.7743265e-03\n",
            "  5.8628265e-03 -9.0492371e-04 -4.8187743e-03  5.2741119e-03\n",
            " -8.8292137e-03  1.6570120e-03  4.0438445e-03 -1.9767361e-03\n",
            " -4.5251362e-03 -8.2517797e-03 -8.3256075e-03  7.0835678e-03\n",
            "  3.6512332e-03 -3.8468643e-04  9.7053712e-03 -8.5806474e-03\n",
            "  5.9041940e-04 -4.3956496e-04 -8.0968468e-03 -9.1103781e-03\n",
            "  7.1627125e-03 -3.6399686e-03 -7.8962492e-03  7.9555055e-03\n",
            " -6.2430189e-03 -3.1496948e-03  1.7655601e-03 -3.3249450e-03\n",
            " -7.9715550e-03 -3.9231982e-03 -9.0048667e-03  1.3687714e-03\n",
            " -4.6394882e-03 -3.7308309e-05  2.7355156e-03 -2.3662522e-03\n",
            "  8.8637006e-03  7.0502944e-03 -5.8135844e-04 -6.3500478e-04\n",
            "  8.7206141e-04  6.7682527e-03  8.9516649e-03 -1.9281536e-03\n",
            " -1.5849490e-03 -2.9971688e-03  4.8750578e-04 -6.4783832e-03\n",
            " -1.8509089e-03 -8.6290902e-03  6.3948578e-04  1.4452303e-03\n",
            "  3.7526889e-03 -2.8873400e-03  5.9588351e-03 -7.0797191e-03\n",
            "  9.8110773e-03  5.5590936e-04  2.3158102e-03  4.4128774e-03\n",
            "  3.6520604e-04  2.6261860e-03  1.6172160e-03 -9.6146166e-03\n",
            " -3.1308136e-03 -2.5739253e-03 -9.2360079e-03  3.4319307e-03\n",
            "  4.7938558e-03 -2.0641203e-03  7.4155829e-03 -1.2174464e-03\n",
            " -2.9479773e-04  5.7945834e-03 -8.5035879e-03 -6.8842792e-03\n",
            "  7.3527256e-03 -6.6033732e-03  8.5321786e-03  5.3736614e-03\n",
            " -8.0254423e-03  8.4083350e-03  6.3578719e-03 -6.6913678e-03\n",
            " -8.4513640e-03 -8.8328142e-03  3.8820016e-03  6.3787680e-03\n",
            " -2.1283098e-03  1.3316452e-03 -8.3939768e-03 -5.1349038e-03]\n"
          ]
        }
      ]
    },
    {
      "cell_type": "code",
      "source": [
        "# most similar words\n",
        "similar= model.wv.most_similar('freedom', topn=5)\n",
        "similar"
      ],
      "metadata": {
        "colab": {
          "base_uri": "https://localhost:8080/"
        },
        "id": "F3aj0vzpZHle",
        "outputId": "95e00ea1-348c-4d27-a091-98fbeb114afa"
      },
      "execution_count": 24,
      "outputs": [
        {
          "output_type": "execute_result",
          "data": {
            "text/plain": [
              "[('took', 0.28592947125434875),\n",
              " ('visions', 0.24053308367729187),\n",
              " ('respects', 0.21105869114398956),\n",
              " ('us', 0.20407283306121826),\n",
              " ('professor', 0.19148865342140198)]"
            ]
          },
          "metadata": {},
          "execution_count": 24
        }
      ]
    },
    {
      "cell_type": "code",
      "source": [
        "# same words similarity\n",
        "model.wv.similarity(w1='freedom', w2='freedom')"
      ],
      "metadata": {
        "colab": {
          "base_uri": "https://localhost:8080/"
        },
        "id": "oy8ymoNzZHiZ",
        "outputId": "58849cc2-c3a4-469b-f25e-4616c78a3fce"
      },
      "execution_count": 25,
      "outputs": [
        {
          "output_type": "execute_result",
          "data": {
            "text/plain": [
              "1.0"
            ]
          },
          "metadata": {},
          "execution_count": 25
        }
      ]
    },
    {
      "cell_type": "code",
      "source": [
        "# filter on non similarity\n",
        "model.wv.doesnt_match([\"war\", \"power\", \"freedom\"])"
      ],
      "metadata": {
        "colab": {
          "base_uri": "https://localhost:8080/",
          "height": 35
        },
        "id": "U3C_6zEQZHfe",
        "outputId": "9e661ff0-a313-4799-a4e6-516f4db82afc"
      },
      "execution_count": 26,
      "outputs": [
        {
          "output_type": "execute_result",
          "data": {
            "text/plain": [
              "'power'"
            ],
            "application/vnd.google.colaboratory.intrinsic+json": {
              "type": "string"
            }
          },
          "metadata": {},
          "execution_count": 26
        }
      ]
    },
    {
      "cell_type": "code",
      "source": [
        "import numpy as np"
      ],
      "metadata": {
        "id": "AgEFCDB-ivuO"
      },
      "execution_count": 31,
      "outputs": []
    },
    {
      "cell_type": "code",
      "source": [
        "from sklearn.manifold import  TSNE\n",
        "vocab = ['closely','vision','power','military','world','india']\n",
        "def tsne_plot(model):\n",
        "    labels = []\n",
        "    wordvecs = []\n",
        "\n",
        "    for word in vocab:\n",
        "        wordvecs.append(model.wv[word])\n",
        "        labels.append(word)\n",
        "    wordvecs = np.array(wordvecs)\n",
        "\n",
        "    tsne_model = TSNE(perplexity=3, n_components=2, init='pca', random_state=42)\n",
        "    coordinates = tsne_model.fit_transform(wordvecs)\n",
        "\n",
        "    x = []\n",
        "    y = []\n",
        "    for value in coordinates:\n",
        "        x.append(value[0])\n",
        "        y.append(value[1])\n",
        "\n",
        "    plt.figure(figsize=(10,6))\n",
        "    for i in range(len(x)):\n",
        "      plt.scatter(x[i],y[i])\n",
        "      plt.annotate(labels[i],\n",
        "                     xy=(x[i], y[i]),\n",
        "                     xytext=(2, 2),\n",
        "                     textcoords='offset points', ha='left')\n",
        "\n",
        "    plt.show()\n",
        "\n",
        "tsne_plot(model)\n",
        "plt.show()\n"
      ],
      "metadata": {
        "colab": {
          "base_uri": "https://localhost:8080/",
          "height": 522
        },
        "id": "02cxQSCmZHcw",
        "outputId": "fce7b460-bade-4a34-e2b1-82886d5a0abd"
      },
      "execution_count": 32,
      "outputs": [
        {
          "output_type": "display_data",
          "data": {
            "text/plain": [
              "<Figure size 1000x600 with 1 Axes>"
            ],
            "image/png": "[encoded data removed]"
          },
          "metadata": {}
        }
      ]
    },
    {
      "cell_type": "code",
      "source": [],
      "metadata": {
        "id": "k4yBJWw6hd_s"
      },
      "execution_count": null,
      "outputs": []
    }
  ]
}