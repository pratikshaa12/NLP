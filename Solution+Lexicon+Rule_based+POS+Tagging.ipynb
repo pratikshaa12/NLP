{
  "nbformat": 4,
  "nbformat_minor": 0,
  "metadata": {
    "colab": {
      "provenance": [],
      "authorship_tag": "ABX9TyMIaMJeIz1tDJG4C0nhwb3o",
      "include_colab_link": true
    },
    "kernelspec": {
      "name": "python3",
      "display_name": "Python 3"
    },
    "language_info": {
      "name": "python"
    }
  },
  "cells": [
    {
      "cell_type": "markdown",
      "metadata": {
        "id": "view-in-github",
        "colab_type": "text"
      },
      "source": [
        "<a href=\"https://colab.research.google.com/github/pratikshaa12/NLP/blob/main/Solution%2BLexicon%2BRule_based%2BPOS%2BTagging.ipynb\" target=\"_parent\"><img src=\"https://colab.research.google.com/assets/colab-badge.svg\" alt=\"Open In Colab\"/></a>"
      ]
    },
    {
      "cell_type": "markdown",
      "source": [
        "### Reading and understanding the tagged dataset"
      ],
      "metadata": {
        "id": "JbGh8M6N3MF8"
      }
    },
    {
      "cell_type": "code",
      "execution_count": 8,
      "metadata": {
        "id": "-MI8DEUs2x4b"
      },
      "outputs": [],
      "source": [
        "# Importing libraries\n",
        "import nltk\n",
        "import numpy as np\n",
        "import pandas as pd\n",
        "import pprint,time\n",
        "import random\n",
        "from sklearn.model_selection import train_test_split\n",
        "from nltk.tokenize import word_tokenize\n",
        "import math"
      ]
    },
    {
      "cell_type": "code",
      "source": [
        "nltk.download('treebank')"
      ],
      "metadata": {
        "colab": {
          "base_uri": "https://localhost:8080/"
        },
        "id": "6m6FZRKM2yjF",
        "outputId": "070bfa42-8832-4126-9cc8-1fc05a2a22c2"
      },
      "execution_count": 9,
      "outputs": [
        {
          "output_type": "stream",
          "name": "stderr",
          "text": [
            "[nltk_data] Downloading package treebank to /root/nltk_data...\n",
            "[nltk_data]   Unzipping corpora/treebank.zip.\n"
          ]
        },
        {
          "output_type": "execute_result",
          "data": {
            "text/plain": [
              "True"
            ]
          },
          "metadata": {},
          "execution_count": 9
        }
      ]
    },
    {
      "cell_type": "code",
      "source": [
        "# Reading the treebank tagged sentences\n",
        "corpus = list(nltk.corpus.treebank.tagged_sents())"
      ],
      "metadata": {
        "id": "wdqD2n-w2ymM"
      },
      "execution_count": 10,
      "outputs": []
    },
    {
      "cell_type": "code",
      "source": [
        "# Samples: each sentence is a list of (word, pos) tuples\n",
        "corpus[:3]"
      ],
      "metadata": {
        "colab": {
          "base_uri": "https://localhost:8080/"
        },
        "id": "LtmsxhXF2ypx",
        "outputId": "a4a55664-ea66-4fe7-a972-b17f1182e78a"
      },
      "execution_count": 11,
      "outputs": [
        {
          "output_type": "execute_result",
          "data": {
            "text/plain": [
              "[[('Pierre', 'NNP'),\n",
              "  ('Vinken', 'NNP'),\n",
              "  (',', ','),\n",
              "  ('61', 'CD'),\n",
              "  ('years', 'NNS'),\n",
              "  ('old', 'JJ'),\n",
              "  (',', ','),\n",
              "  ('will', 'MD'),\n",
              "  ('join', 'VB'),\n",
              "  ('the', 'DT'),\n",
              "  ('board', 'NN'),\n",
              "  ('as', 'IN'),\n",
              "  ('a', 'DT'),\n",
              "  ('nonexecutive', 'JJ'),\n",
              "  ('director', 'NN'),\n",
              "  ('Nov.', 'NNP'),\n",
              "  ('29', 'CD'),\n",
              "  ('.', '.')],\n",
              " [('Mr.', 'NNP'),\n",
              "  ('Vinken', 'NNP'),\n",
              "  ('is', 'VBZ'),\n",
              "  ('chairman', 'NN'),\n",
              "  ('of', 'IN'),\n",
              "  ('Elsevier', 'NNP'),\n",
              "  ('N.V.', 'NNP'),\n",
              "  (',', ','),\n",
              "  ('the', 'DT'),\n",
              "  ('Dutch', 'NNP'),\n",
              "  ('publishing', 'VBG'),\n",
              "  ('group', 'NN'),\n",
              "  ('.', '.')],\n",
              " [('Rudolph', 'NNP'),\n",
              "  ('Agnew', 'NNP'),\n",
              "  (',', ','),\n",
              "  ('55', 'CD'),\n",
              "  ('years', 'NNS'),\n",
              "  ('old', 'JJ'),\n",
              "  ('and', 'CC'),\n",
              "  ('former', 'JJ'),\n",
              "  ('chairman', 'NN'),\n",
              "  ('of', 'IN'),\n",
              "  ('Consolidated', 'NNP'),\n",
              "  ('Gold', 'NNP'),\n",
              "  ('Fields', 'NNP'),\n",
              "  ('PLC', 'NNP'),\n",
              "  (',', ','),\n",
              "  ('was', 'VBD'),\n",
              "  ('named', 'VBN'),\n",
              "  ('*-1', '-NONE-'),\n",
              "  ('a', 'DT'),\n",
              "  ('nonexecutive', 'JJ'),\n",
              "  ('director', 'NN'),\n",
              "  ('of', 'IN'),\n",
              "  ('this', 'DT'),\n",
              "  ('British', 'JJ'),\n",
              "  ('industrial', 'JJ'),\n",
              "  ('conglomerate', 'NN'),\n",
              "  ('.', '.')]]"
            ]
          },
          "metadata": {},
          "execution_count": 11
        }
      ]
    },
    {
      "cell_type": "code",
      "source": [
        "# Convertting the list of sents to a list of(word, pos tag) tuples\n",
        "tagged_words = [tup for sent in corpus for tup in sent]\n",
        "print(len(tagged_words))\n",
        "tagged_words[:50]"
      ],
      "metadata": {
        "colab": {
          "base_uri": "https://localhost:8080/"
        },
        "id": "CjSnrRcC2yvi",
        "outputId": "87878370-b35d-4213-f56d-659a64c11d3e"
      },
      "execution_count": 12,
      "outputs": [
        {
          "output_type": "stream",
          "name": "stdout",
          "text": [
            "100676\n"
          ]
        },
        {
          "output_type": "execute_result",
          "data": {
            "text/plain": [
              "[('Pierre', 'NNP'),\n",
              " ('Vinken', 'NNP'),\n",
              " (',', ','),\n",
              " ('61', 'CD'),\n",
              " ('years', 'NNS'),\n",
              " ('old', 'JJ'),\n",
              " (',', ','),\n",
              " ('will', 'MD'),\n",
              " ('join', 'VB'),\n",
              " ('the', 'DT'),\n",
              " ('board', 'NN'),\n",
              " ('as', 'IN'),\n",
              " ('a', 'DT'),\n",
              " ('nonexecutive', 'JJ'),\n",
              " ('director', 'NN'),\n",
              " ('Nov.', 'NNP'),\n",
              " ('29', 'CD'),\n",
              " ('.', '.'),\n",
              " ('Mr.', 'NNP'),\n",
              " ('Vinken', 'NNP'),\n",
              " ('is', 'VBZ'),\n",
              " ('chairman', 'NN'),\n",
              " ('of', 'IN'),\n",
              " ('Elsevier', 'NNP'),\n",
              " ('N.V.', 'NNP'),\n",
              " (',', ','),\n",
              " ('the', 'DT'),\n",
              " ('Dutch', 'NNP'),\n",
              " ('publishing', 'VBG'),\n",
              " ('group', 'NN'),\n",
              " ('.', '.'),\n",
              " ('Rudolph', 'NNP'),\n",
              " ('Agnew', 'NNP'),\n",
              " (',', ','),\n",
              " ('55', 'CD'),\n",
              " ('years', 'NNS'),\n",
              " ('old', 'JJ'),\n",
              " ('and', 'CC'),\n",
              " ('former', 'JJ'),\n",
              " ('chairman', 'NN'),\n",
              " ('of', 'IN'),\n",
              " ('Consolidated', 'NNP'),\n",
              " ('Gold', 'NNP'),\n",
              " ('Fields', 'NNP'),\n",
              " ('PLC', 'NNP'),\n",
              " (',', ','),\n",
              " ('was', 'VBD'),\n",
              " ('named', 'VBN'),\n",
              " ('*-1', '-NONE-'),\n",
              " ('a', 'DT')]"
            ]
          },
          "metadata": {},
          "execution_count": 12
        }
      ]
    },
    {
      "cell_type": "markdown",
      "source": [
        "### Exploratory Analysis"
      ],
      "metadata": {
        "id": "1CdO8Yzs59xI"
      }
    },
    {
      "cell_type": "code",
      "source": [
        "# Find the number of unique pos tags in the corpus\n",
        "# u can use the set() function on the list of tags to get a unique set of tags,\n",
        "# compute its length\n",
        "\n",
        "tags = [pair[1] for pair in tagged_words]\n",
        "unique_tags = set(tags)\n",
        "len(unique_tags)"
      ],
      "metadata": {
        "colab": {
          "base_uri": "https://localhost:8080/"
        },
        "id": "P77IVO_T2yyV",
        "outputId": "e31a3522-15da-4012-9498-0cb83a90a5b5"
      },
      "execution_count": 13,
      "outputs": [
        {
          "output_type": "execute_result",
          "data": {
            "text/plain": [
              "46"
            ]
          },
          "metadata": {},
          "execution_count": 13
        }
      ]
    },
    {
      "cell_type": "code",
      "source": [
        "# which is the most frequent tag in the corpus\n",
        "# to count the frequency of elements in a list , the counter() class from collections\n",
        "# module is very useful, as shown below\n",
        "\n",
        "from collections import Counter\n",
        "tag_counts = Counter(tags)\n",
        "tag_counts"
      ],
      "metadata": {
        "colab": {
          "base_uri": "https://localhost:8080/"
        },
        "id": "Z1y-dVDt2y1o",
        "outputId": "e7471118-591f-45da-8475-8048272eaaf5"
      },
      "execution_count": 14,
      "outputs": [
        {
          "output_type": "execute_result",
          "data": {
            "text/plain": [
              "Counter({'NNP': 9410,\n",
              "         ',': 4886,\n",
              "         'CD': 3546,\n",
              "         'NNS': 6047,\n",
              "         'JJ': 5834,\n",
              "         'MD': 927,\n",
              "         'VB': 2554,\n",
              "         'DT': 8165,\n",
              "         'NN': 13166,\n",
              "         'IN': 9857,\n",
              "         '.': 3874,\n",
              "         'VBZ': 2125,\n",
              "         'VBG': 1460,\n",
              "         'CC': 2265,\n",
              "         'VBD': 3043,\n",
              "         'VBN': 2134,\n",
              "         '-NONE-': 6592,\n",
              "         'RB': 2822,\n",
              "         'TO': 2179,\n",
              "         'PRP': 1716,\n",
              "         'RBR': 136,\n",
              "         'WDT': 445,\n",
              "         'VBP': 1321,\n",
              "         'RP': 216,\n",
              "         'PRP$': 766,\n",
              "         'JJS': 182,\n",
              "         'POS': 824,\n",
              "         '``': 712,\n",
              "         'EX': 88,\n",
              "         \"''\": 694,\n",
              "         'WP': 241,\n",
              "         ':': 563,\n",
              "         'JJR': 381,\n",
              "         'WRB': 178,\n",
              "         '$': 724,\n",
              "         'NNPS': 244,\n",
              "         'WP$': 14,\n",
              "         '-LRB-': 120,\n",
              "         '-RRB-': 126,\n",
              "         'PDT': 27,\n",
              "         'RBS': 35,\n",
              "         'FW': 4,\n",
              "         'UH': 3,\n",
              "         'SYM': 1,\n",
              "         'LS': 13,\n",
              "         '#': 16})"
            ]
          },
          "metadata": {},
          "execution_count": 14
        }
      ]
    },
    {
      "cell_type": "code",
      "source": [
        "# the most common tags can be seen using the most_common() method of counter\n",
        "tag_counts.most_common(5)"
      ],
      "metadata": {
        "colab": {
          "base_uri": "https://localhost:8080/"
        },
        "id": "Ex756tMF7eVo",
        "outputId": "74ec2cda-43d0-4687-f35d-95758f1ad8f6"
      },
      "execution_count": 15,
      "outputs": [
        {
          "output_type": "execute_result",
          "data": {
            "text/plain": [
              "[('NN', 13166), ('IN', 9857), ('NNP', 9410), ('DT', 8165), ('-NONE-', 6592)]"
            ]
          },
          "metadata": {},
          "execution_count": 15
        }
      ]
    },
    {
      "cell_type": "code",
      "source": [
        "import nltk\n",
        "nltk.download('tagsets_json')"
      ],
      "metadata": {
        "colab": {
          "base_uri": "https://localhost:8080/"
        },
        "id": "8tKF3G9x8bQe",
        "outputId": "7358eac2-a71f-47a5-b6ed-ac866c99c969"
      },
      "execution_count": 16,
      "outputs": [
        {
          "output_type": "stream",
          "name": "stderr",
          "text": [
            "[nltk_data] Downloading package tagsets_json to /root/nltk_data...\n",
            "[nltk_data]   Unzipping help/tagsets_json.zip.\n"
          ]
        },
        {
          "output_type": "execute_result",
          "data": {
            "text/plain": [
              "True"
            ]
          },
          "metadata": {},
          "execution_count": 16
        }
      ]
    },
    {
      "cell_type": "code",
      "source": [
        "# list of pos tags in NLTK\n",
        "nltk.help.upenn_tagset()"
      ],
      "metadata": {
        "colab": {
          "base_uri": "https://localhost:8080/"
        },
        "id": "LjezY5zO76KX",
        "outputId": "f2c5c552-8233-431d-9c69-da64c8817997"
      },
      "execution_count": 17,
      "outputs": [
        {
          "output_type": "stream",
          "name": "stdout",
          "text": [
            "$: dollar\n",
            "    $ -$ --$ A$ C$ HK$ M$ NZ$ S$ U.S.$ US$\n",
            "'': closing quotation mark\n",
            "    ' ''\n",
            "(: opening parenthesis\n",
            "    ( [ {\n",
            "): closing parenthesis\n",
            "    ) ] }\n",
            ",: comma\n",
            "    ,\n",
            "--: dash\n",
            "    --\n",
            ".: sentence terminator\n",
            "    . ! ?\n",
            ":: colon or ellipsis\n",
            "    : ; ...\n",
            "CC: conjunction, coordinating\n",
            "    & 'n and both but either et for less minus neither nor or plus so\n",
            "    therefore times v. versus vs. whether yet\n",
            "CD: numeral, cardinal\n",
            "    mid-1890 nine-thirty forty-two one-tenth ten million 0.5 one forty-\n",
            "    seven 1987 twenty '79 zero two 78-degrees eighty-four IX '60s .025\n",
            "    fifteen 271,124 dozen quintillion DM2,000 ...\n",
            "DT: determiner\n",
            "    all an another any both del each either every half la many much nary\n",
            "    neither no some such that the them these this those\n",
            "EX: existential there\n",
            "    there\n",
            "FW: foreign word\n",
            "    gemeinschaft hund ich jeux habeas Haementeria Herr K'ang-si vous\n",
            "    lutihaw alai je jour objets salutaris fille quibusdam pas trop Monte\n",
            "    terram fiche oui corporis ...\n",
            "IN: preposition or conjunction, subordinating\n",
            "    astride among uppon whether out inside pro despite on by throughout\n",
            "    below within for towards near behind atop around if like until below\n",
            "    next into if beside ...\n",
            "JJ: adjective or numeral, ordinal\n",
            "    third ill-mannered pre-war regrettable oiled calamitous first separable\n",
            "    ectoplasmic battery-powered participatory fourth still-to-be-named\n",
            "    multilingual multi-disciplinary ...\n",
            "JJR: adjective, comparative\n",
            "    bleaker braver breezier briefer brighter brisker broader bumper busier\n",
            "    calmer cheaper choosier cleaner clearer closer colder commoner costlier\n",
            "    cozier creamier crunchier cuter ...\n",
            "JJS: adjective, superlative\n",
            "    calmest cheapest choicest classiest cleanest clearest closest commonest\n",
            "    corniest costliest crassest creepiest crudest cutest darkest deadliest\n",
            "    dearest deepest densest dinkiest ...\n",
            "LS: list item marker\n",
            "    A A. B B. C C. D E F First G H I J K One SP-44001 SP-44002 SP-44005\n",
            "    SP-44007 Second Third Three Two * a b c d first five four one six three\n",
            "    two\n",
            "MD: modal auxiliary\n",
            "    can cannot could couldn't dare may might must need ought shall should\n",
            "    shouldn't will would\n",
            "NN: noun, common, singular or mass\n",
            "    common-carrier cabbage knuckle-duster Casino afghan shed thermostat\n",
            "    investment slide humour falloff slick wind hyena override subhumanity\n",
            "    machinist ...\n",
            "NNP: noun, proper, singular\n",
            "    Motown Venneboerger Czestochwa Ranzer Conchita Trumplane Christos\n",
            "    Oceanside Escobar Kreisler Sawyer Cougar Yvette Ervin ODI Darryl CTCA\n",
            "    Shannon A.K.C. Meltex Liverpool ...\n",
            "NNPS: noun, proper, plural\n",
            "    Americans Americas Amharas Amityvilles Amusements Anarcho-Syndicalists\n",
            "    Andalusians Andes Andruses Angels Animals Anthony Antilles Antiques\n",
            "    Apache Apaches Apocrypha ...\n",
            "NNS: noun, common, plural\n",
            "    undergraduates scotches bric-a-brac products bodyguards facets coasts\n",
            "    divestitures storehouses designs clubs fragrances averages\n",
            "    subjectivists apprehensions muses factory-jobs ...\n",
            "PDT: pre-determiner\n",
            "    all both half many quite such sure this\n",
            "POS: genitive marker\n",
            "    ' 's\n",
            "PRP: pronoun, personal\n",
            "    hers herself him himself hisself it itself me myself one oneself ours\n",
            "    ourselves ownself self she thee theirs them themselves they thou thy us\n",
            "PRP$: pronoun, possessive\n",
            "    her his mine my our ours their thy your\n",
            "RB: adverb\n",
            "    occasionally unabatingly maddeningly adventurously professedly\n",
            "    stirringly prominently technologically magisterially predominately\n",
            "    swiftly fiscally pitilessly ...\n",
            "RBR: adverb, comparative\n",
            "    further gloomier grander graver greater grimmer harder harsher\n",
            "    healthier heavier higher however larger later leaner lengthier less-\n",
            "    perfectly lesser lonelier longer louder lower more ...\n",
            "RBS: adverb, superlative\n",
            "    best biggest bluntest earliest farthest first furthest hardest\n",
            "    heartiest highest largest least less most nearest second tightest worst\n",
            "RP: particle\n",
            "    aboard about across along apart around aside at away back before behind\n",
            "    by crop down ever fast for forth from go high i.e. in into just later\n",
            "    low more off on open out over per pie raising start teeth that through\n",
            "    under unto up up-pp upon whole with you\n",
            "SYM: symbol\n",
            "    % & ' '' ''. ) ). * + ,. < = > @ A[fj] U.S U.S.S.R * ** ***\n",
            "TO: \"to\" as preposition or infinitive marker\n",
            "    to\n",
            "UH: interjection\n",
            "    Goodbye Goody Gosh Wow Jeepers Jee-sus Hubba Hey Kee-reist Oops amen\n",
            "    huh howdy uh dammit whammo shucks heck anyways whodunnit honey golly\n",
            "    man baby diddle hush sonuvabitch ...\n",
            "VB: verb, base form\n",
            "    ask assemble assess assign assume atone attention avoid bake balkanize\n",
            "    bank begin behold believe bend benefit bevel beware bless boil bomb\n",
            "    boost brace break bring broil brush build ...\n",
            "VBD: verb, past tense\n",
            "    dipped pleaded swiped regummed soaked tidied convened halted registered\n",
            "    cushioned exacted snubbed strode aimed adopted belied figgered\n",
            "    speculated wore appreciated contemplated ...\n",
            "VBG: verb, present participle or gerund\n",
            "    telegraphing stirring focusing angering judging stalling lactating\n",
            "    hankerin' alleging veering capping approaching traveling besieging\n",
            "    encrypting interrupting erasing wincing ...\n",
            "VBN: verb, past participle\n",
            "    multihulled dilapidated aerosolized chaired languished panelized used\n",
            "    experimented flourished imitated reunifed factored condensed sheared\n",
            "    unsettled primed dubbed desired ...\n",
            "VBP: verb, present tense, not 3rd person singular\n",
            "    predominate wrap resort sue twist spill cure lengthen brush terminate\n",
            "    appear tend stray glisten obtain comprise detest tease attract\n",
            "    emphasize mold postpone sever return wag ...\n",
            "VBZ: verb, present tense, 3rd person singular\n",
            "    bases reconstructs marks mixes displeases seals carps weaves snatches\n",
            "    slumps stretches authorizes smolders pictures emerges stockpiles\n",
            "    seduces fizzes uses bolsters slaps speaks pleads ...\n",
            "WDT: WH-determiner\n",
            "    that what whatever which whichever\n",
            "WP: WH-pronoun\n",
            "    that what whatever whatsoever which who whom whosoever\n",
            "WP$: WH-pronoun, possessive\n",
            "    whose\n",
            "WRB: Wh-adverb\n",
            "    how however whence whenever where whereby whereever wherein whereof why\n",
            "``: opening quotation mark\n",
            "    ` ``\n"
          ]
        }
      ]
    },
    {
      "cell_type": "code",
      "source": [
        "# which tag is most commonly assigned to the word w.\n",
        "bank = [pair for pair in tagged_words if pair[0].lower() == 'bank']\n",
        "bank"
      ],
      "metadata": {
        "colab": {
          "base_uri": "https://localhost:8080/"
        },
        "id": "43eCLpjW8GhU",
        "outputId": "15e18a56-3c99-4702-dc9f-e634c14e54be"
      },
      "execution_count": 18,
      "outputs": [
        {
          "output_type": "execute_result",
          "data": {
            "text/plain": [
              "[('bank', 'NN'),\n",
              " ('Bank', 'NNP'),\n",
              " ('bank', 'NN'),\n",
              " ('Bank', 'NNP'),\n",
              " ('bank', 'NN'),\n",
              " ('Bank', 'NNP'),\n",
              " ('bank', 'NN'),\n",
              " ('Bank', 'NNP'),\n",
              " ('bank', 'NN'),\n",
              " ('bank', 'NN'),\n",
              " ('bank', 'NN'),\n",
              " ('Bank', 'NNP'),\n",
              " ('Bank', 'NNP'),\n",
              " ('Bank', 'NNP'),\n",
              " ('Bank', 'NNP'),\n",
              " ('bank', 'NN'),\n",
              " ('bank', 'NN'),\n",
              " ('bank', 'NN'),\n",
              " ('bank', 'NN'),\n",
              " ('bank', 'NN'),\n",
              " ('Bank', 'NNP'),\n",
              " ('Bank', 'NNP'),\n",
              " ('Bank', 'NNP'),\n",
              " ('bank', 'NN'),\n",
              " ('Bank', 'NNP'),\n",
              " ('Bank', 'NNP'),\n",
              " ('bank', 'NN'),\n",
              " ('Bank', 'NNP'),\n",
              " ('Bank', 'NNP'),\n",
              " ('bank', 'NN'),\n",
              " ('bank', 'NN'),\n",
              " ('Bank', 'NNP'),\n",
              " ('bank', 'NN'),\n",
              " ('bank', 'NN'),\n",
              " ('bank', 'NN'),\n",
              " ('Bank', 'NNP'),\n",
              " ('bank', 'NN'),\n",
              " ('bank', 'NN'),\n",
              " ('bank', 'NN'),\n",
              " ('bank', 'NN'),\n",
              " ('bank', 'NN'),\n",
              " ('Bank', 'NNP'),\n",
              " ('Bank', 'NNP'),\n",
              " ('Bank', 'NNP'),\n",
              " ('bank', 'NN'),\n",
              " ('Bank', 'NNP'),\n",
              " ('Bank', 'NNP'),\n",
              " ('Bank', 'NNP'),\n",
              " ('Bank', 'NNP'),\n",
              " ('Bank', 'NNP'),\n",
              " ('Bank', 'NNP'),\n",
              " ('Bank', 'NNP'),\n",
              " ('Bank', 'NNP'),\n",
              " ('Bank', 'NNP'),\n",
              " ('bank', 'NN'),\n",
              " ('bank', 'NN'),\n",
              " ('Bank', 'NNP'),\n",
              " ('bank', 'NN'),\n",
              " ('bank', 'NN'),\n",
              " ('Bank', 'NNP'),\n",
              " ('bank', 'NN'),\n",
              " ('bank', 'NN'),\n",
              " ('bank', 'NN'),\n",
              " ('bank', 'NN'),\n",
              " ('bank', 'NN'),\n",
              " ('bank', 'NN'),\n",
              " ('bank', 'NN'),\n",
              " ('bank', 'NN'),\n",
              " ('Bank', 'NNP'),\n",
              " ('bank', 'NN')]"
            ]
          },
          "metadata": {},
          "execution_count": 18
        }
      ]
    },
    {
      "cell_type": "code",
      "source": [
        "# which tag is most commonly assigned to the word w.\n",
        "executive = [pair for pair in tagged_words if pair[0].lower() == 'executive']\n",
        "executive"
      ],
      "metadata": {
        "colab": {
          "base_uri": "https://localhost:8080/"
        },
        "id": "rPQqNSBV8Gjx",
        "outputId": "18521b56-8b0c-4985-ef93-040ba187556d"
      },
      "execution_count": 19,
      "outputs": [
        {
          "output_type": "execute_result",
          "data": {
            "text/plain": [
              "[('executive', 'NN'),\n",
              " ('executive', 'JJ'),\n",
              " ('executive', 'JJ'),\n",
              " ('executive', 'NN'),\n",
              " ('executive', 'NN'),\n",
              " ('executive', 'NN'),\n",
              " ('executive', 'NN'),\n",
              " ('executive', 'NN'),\n",
              " ('executive', 'NN'),\n",
              " ('executive', 'NN'),\n",
              " ('executive', 'NN'),\n",
              " ('executive', 'NN'),\n",
              " ('executive', 'NN'),\n",
              " ('executive', 'JJ'),\n",
              " ('executive', 'JJ'),\n",
              " ('executive', 'JJ'),\n",
              " ('executive', 'NN'),\n",
              " ('executive', 'JJ'),\n",
              " ('executive', 'NN'),\n",
              " ('executive', 'NN'),\n",
              " ('executive', 'NN'),\n",
              " ('executive', 'NN'),\n",
              " ('executive', 'NN'),\n",
              " ('executive', 'NN'),\n",
              " ('executive', 'NN'),\n",
              " ('executive', 'NN'),\n",
              " ('executive', 'JJ'),\n",
              " ('executive', 'JJ'),\n",
              " ('executive', 'JJ'),\n",
              " ('executive', 'JJ'),\n",
              " ('executive', 'JJ'),\n",
              " ('executive', 'NN'),\n",
              " ('executive', 'NN'),\n",
              " ('executive', 'NN'),\n",
              " ('executive', 'NN'),\n",
              " ('executive', 'NN'),\n",
              " ('executive', 'JJ'),\n",
              " ('executive', 'NN'),\n",
              " ('executive', 'NN'),\n",
              " ('executive', 'NN'),\n",
              " ('executive', 'JJ'),\n",
              " ('executive', 'JJ'),\n",
              " ('executive', 'JJ'),\n",
              " ('executive', 'JJ'),\n",
              " ('executive', 'JJ'),\n",
              " ('executive', 'NN'),\n",
              " ('executive', 'NN'),\n",
              " ('executive', 'JJ'),\n",
              " ('executive', 'JJ'),\n",
              " ('executive', 'NN'),\n",
              " ('executive', 'JJ'),\n",
              " ('executive', 'JJ'),\n",
              " ('executive', 'NN'),\n",
              " ('executive', 'NN'),\n",
              " ('executive', 'JJ'),\n",
              " ('executive', 'NN'),\n",
              " ('executive', 'JJ'),\n",
              " ('executive', 'JJ'),\n",
              " ('executive', 'NN'),\n",
              " ('executive', 'NN'),\n",
              " ('executive', 'NN'),\n",
              " ('executive', 'JJ'),\n",
              " ('executive', 'NN'),\n",
              " ('executive', 'NN'),\n",
              " ('executive', 'JJ'),\n",
              " ('executive', 'JJ'),\n",
              " ('executive', 'NN'),\n",
              " ('executive', 'JJ')]"
            ]
          },
          "metadata": {},
          "execution_count": 19
        }
      ]
    },
    {
      "cell_type": "code",
      "source": [
        "# how many words with the tag 'VBG' end with 'ing'\n",
        "participle_verbs = [pair for pair in tagged_words if pair[1]=='VBG']\n",
        "ing_verbs =[pair for pair in participle_verbs if pair[0].endswith('ing')]\n",
        "print(len(ing_verbs) / len(participle_verbs))\n",
        "ing_verbs[:20]"
      ],
      "metadata": {
        "colab": {
          "base_uri": "https://localhost:8080/"
        },
        "id": "rlcEH7GT8Gmv",
        "outputId": "e8680f42-cb23-4ab2-8565-85542a6af08e"
      },
      "execution_count": 20,
      "outputs": [
        {
          "output_type": "stream",
          "name": "stdout",
          "text": [
            "0.9972602739726028\n"
          ]
        },
        {
          "output_type": "execute_result",
          "data": {
            "text/plain": [
              "[('publishing', 'VBG'),\n",
              " ('causing', 'VBG'),\n",
              " ('using', 'VBG'),\n",
              " ('talking', 'VBG'),\n",
              " ('having', 'VBG'),\n",
              " ('making', 'VBG'),\n",
              " ('surviving', 'VBG'),\n",
              " ('including', 'VBG'),\n",
              " ('including', 'VBG'),\n",
              " ('according', 'VBG'),\n",
              " ('remaining', 'VBG'),\n",
              " ('according', 'VBG'),\n",
              " ('declining', 'VBG'),\n",
              " ('rising', 'VBG'),\n",
              " ('yielding', 'VBG'),\n",
              " ('waiving', 'VBG'),\n",
              " ('holding', 'VBG'),\n",
              " ('holding', 'VBG'),\n",
              " ('cutting', 'VBG'),\n",
              " ('manufacturing', 'VBG')]"
            ]
          },
          "metadata": {},
          "execution_count": 20
        }
      ]
    },
    {
      "cell_type": "code",
      "source": [
        "# how many words with the tag 'VBD' (verb, past tense) end with 'ed'\n",
        "past_tense_verbs = [pair for pair in tagged_words if pair[1]=='VBD']\n",
        "ed_verbs =[pair for pair in past_tense_verbs if pair[0].endswith('ed')]\n",
        "print(len(ed_verbs) / len(past_tense_verbs))\n",
        "ed_verbs[:20]"
      ],
      "metadata": {
        "colab": {
          "base_uri": "https://localhost:8080/"
        },
        "id": "080Bdsqt8Gpv",
        "outputId": "c8801f73-d20c-493f-82da-9ebf612e44ee"
      },
      "execution_count": 21,
      "outputs": [
        {
          "output_type": "stream",
          "name": "stdout",
          "text": [
            "0.3881038448899113\n"
          ]
        },
        {
          "output_type": "execute_result",
          "data": {
            "text/plain": [
              "[('reported', 'VBD'),\n",
              " ('stopped', 'VBD'),\n",
              " ('studied', 'VBD'),\n",
              " ('led', 'VBD'),\n",
              " ('worked', 'VBD'),\n",
              " ('explained', 'VBD'),\n",
              " ('imposed', 'VBD'),\n",
              " ('dumped', 'VBD'),\n",
              " ('poured', 'VBD'),\n",
              " ('mixed', 'VBD'),\n",
              " ('described', 'VBD'),\n",
              " ('ventilated', 'VBD'),\n",
              " ('contracted', 'VBD'),\n",
              " ('continued', 'VBD'),\n",
              " ('eased', 'VBD'),\n",
              " ('ended', 'VBD'),\n",
              " ('lengthened', 'VBD'),\n",
              " ('reached', 'VBD'),\n",
              " ('resigned', 'VBD'),\n",
              " ('approved', 'VBD')]"
            ]
          },
          "metadata": {},
          "execution_count": 21
        }
      ]
    },
    {
      "cell_type": "code",
      "source": [
        "# what fraction of adjectives JJ are followed by a noun NN\n",
        "# create a list of all tags (without the words )\n",
        "tags = [pair[1] for pair in tagged_words]\n",
        "\n",
        "# create list of JJ tags\n",
        "jj_tags = [ t for t in tags if t =='JJ']\n",
        "\n",
        "# create  a list of (JJ, NN) tags\n",
        "jj_nn_tags = [(t, tags[index+1]) for index, t in enumerate(tags)\n",
        "               if t=='JJ' and tags[index+1]=='NN']\n",
        "print(len(jj_tags))\n",
        "print(len(jj_nn_tags))\n",
        "print(len(jj_nn_tags) / len(jj_tags))\n"
      ],
      "metadata": {
        "colab": {
          "base_uri": "https://localhost:8080/"
        },
        "id": "p79RIqgc8Gs0",
        "outputId": "9c2f19ed-5791-4b72-bcbc-947a496aae09"
      },
      "execution_count": 22,
      "outputs": [
        {
          "output_type": "stream",
          "name": "stdout",
          "text": [
            "5834\n",
            "2611\n",
            "0.4475488515598217\n"
          ]
        }
      ]
    },
    {
      "cell_type": "code",
      "source": [
        " #what fraction of adjectives JJ are followed by a noun NN\n",
        "# create a list of all tags (without the words )\n",
        "tags = [pair[1] for pair in tagged_words]\n",
        "\n",
        "# create list of DT tags\n",
        "dt_tags = [ t for t in tags if t =='DT']\n",
        "\n",
        "# create  a list of (DT, NN) tags\n",
        "dt_nn_tags = [(t, tags[index+1]) for index, t in enumerate(tags)\n",
        "               if t=='DT' and tags[index+1]=='NN']\n",
        "print(len(dt_tags))\n",
        "print(len(dt_nn_tags))\n",
        "print(len(dt_nn_tags) / len(dt_tags))\n"
      ],
      "metadata": {
        "colab": {
          "base_uri": "https://localhost:8080/"
        },
        "id": "742TeIWcBn8c",
        "outputId": "b646d3bf-868b-49aa-fc14-9f59ea032429"
      },
      "execution_count": 23,
      "outputs": [
        {
          "output_type": "stream",
          "name": "stdout",
          "text": [
            "8165\n",
            "3844\n",
            "0.470789957134109\n"
          ]
        }
      ]
    },
    {
      "cell_type": "code",
      "source": [
        " #what fraction of models MD   are followed by a verb VB\n",
        "\n",
        "\n",
        "# create list of MD tags\n",
        "md_tags = [ t for t in tags if t =='MD']\n",
        "\n",
        "# create  a list of (MD, VB) tags\n",
        "md_vb_tags = [(t, tags[index+1]) for index, t in enumerate(tags)\n",
        "               if t=='MD' and tags[index+1]=='VB']\n",
        "print(len(md_tags))\n",
        "print(len(md_vb_tags))\n",
        "print(len(md_vb_tags) / len(md_tags))\n"
      ],
      "metadata": {
        "colab": {
          "base_uri": "https://localhost:8080/"
        },
        "id": "O0NRLo8oB-pp",
        "outputId": "f6ad1a62-7814-426c-fbd3-ca055f00097e"
      },
      "execution_count": 24,
      "outputs": [
        {
          "output_type": "stream",
          "name": "stdout",
          "text": [
            "927\n",
            "756\n",
            "0.8155339805825242\n"
          ]
        }
      ]
    },
    {
      "cell_type": "markdown",
      "source": [
        "## Lexicon and Rule-Based Models for POS Tagging"
      ],
      "metadata": {
        "id": "J-vjbQb9Dp7u"
      }
    },
    {
      "cell_type": "markdown",
      "source": [
        "##### We'll first split the corpus into training and test sets and then use built-in NLTK taggers"
      ],
      "metadata": {
        "id": "S4sYhxzSD1wL"
      }
    },
    {
      "cell_type": "markdown",
      "source": [
        "#### Splitting into Train and Test Sets"
      ],
      "metadata": {
        "id": "3MAQ5e7iEIwr"
      }
    },
    {
      "cell_type": "code",
      "source": [
        "# splitting into train and test\n",
        "random.seed(1234)\n",
        "train_set, test_set =train_test_split(corpus, test_size=0.3)\n",
        "print(len(train_set))\n",
        "print(len(test_set))\n",
        "print(train_set[:2])"
      ],
      "metadata": {
        "colab": {
          "base_uri": "https://localhost:8080/"
        },
        "id": "vEKWIeLxDMFt",
        "outputId": "79b91594-f2a4-4872-f4d5-ed551fb0fcbb"
      },
      "execution_count": 25,
      "outputs": [
        {
          "output_type": "stream",
          "name": "stdout",
          "text": [
            "2739\n",
            "1175\n",
            "[[('But', 'CC'), ('its', 'PRP$'), ('17', 'CD'), ('big', 'JJ'), ('junk', 'NN'), ('holdings', 'NNS'), ('at', 'IN'), ('year', 'NN'), ('end', 'NN'), ('showed', 'VBD'), ('only', 'RB'), ('a', 'DT'), ('few', 'JJ'), ('bonds', 'NNS'), ('that', 'WDT'), ('*T*-1', '-NONE-'), ('have', 'VBP'), ('been', 'VBN'), ('really', 'RB'), ('battered', 'VBN'), ('*-2', '-NONE-'), ('.', '.')], [('But', 'CC'), ('GMAC', 'NNP'), ('approved', 'VBD'), ('the', 'DT'), ('Buick', 'NNP'), ('program', 'NN'), (',', ','), ('he', 'PRP'), ('says', 'VBZ'), ('0', '-NONE-'), ('*T*-1', '-NONE-'), (',', ','), ('because', 'IN'), ('the', 'DT'), ('American', 'NNP'), ('Express', 'NNP'), ('green', 'JJ'), ('card', 'NN'), ('requires', 'VBZ'), ('payment', 'NN'), ('in', 'IN'), ('full', 'JJ'), ('upon', 'IN'), ('billing', 'NN'), (',', ','), ('and', 'CC'), ('so', 'RB'), ('does', 'VBZ'), (\"n't\", 'RB'), ('carry', 'VB'), ('any', 'DT'), ('finance', 'NN'), ('rates', 'NNS'), ('.', '.')]]\n"
          ]
        }
      ]
    },
    {
      "cell_type": "markdown",
      "source": [
        "### Lexicon(Unigram) Tagger"
      ],
      "metadata": {
        "id": "eLyaUKt_ExzF"
      }
    },
    {
      "cell_type": "markdown",
      "source": [
        "##### let's  now try training a lexicon tagger which assigns the most commonly assigned tag to a word. In nltk UnigramTagger() can be used to train such a model"
      ],
      "metadata": {
        "id": "U86AyTI1FJeF"
      }
    },
    {
      "cell_type": "code",
      "source": [
        "# Lexicon or unigram tagger\n",
        "unigram_tagger = nltk.UnigramTagger(train_set)\n",
        "unigram_tagger.evaluate(test_set)"
      ],
      "metadata": {
        "colab": {
          "base_uri": "https://localhost:8080/"
        },
        "id": "F4Rzhby_EpWz",
        "outputId": "fc17753c-86c7-4c01-8909-7aaee182198c"
      },
      "execution_count": 26,
      "outputs": [
        {
          "output_type": "stream",
          "name": "stderr",
          "text": [
            "<ipython-input-26-d71c97a7a54c>:3: DeprecationWarning: \n",
            "  Function evaluate() has been deprecated.  Use accuracy(gold)\n",
            "  instead.\n",
            "  unigram_tagger.evaluate(test_set)\n"
          ]
        },
        {
          "output_type": "execute_result",
          "data": {
            "text/plain": [
              "0.8744598739980869"
            ]
          },
          "metadata": {},
          "execution_count": 26
        }
      ]
    },
    {
      "cell_type": "markdown",
      "source": [
        "### Rule-Based (Regular Expression) Tagger"
      ],
      "metadata": {
        "id": "j2Sk5HjQGvBS"
      }
    },
    {
      "cell_type": "markdown",
      "source": [
        "##### In nltk, the RegexpTagger() can be provided with handwritten regular expresion patterns."
      ],
      "metadata": {
        "id": "EbbEzQbtG4FG"
      }
    },
    {
      "cell_type": "code",
      "source": [
        "# specify patterns for tagging\n",
        "# example from the nltk book\n",
        "patterns = [\n",
        "    (r'.*ing$', 'VBG'),         #gerund\n",
        "    (r'. *ed$', 'VBD'),         # past tense\n",
        "    (r'. *es$', 'VBZ'),         # 3rd singular present\n",
        "    (r'.*ould$', 'MD'),         # modals\n",
        "    (r'.*\\'s$', 'NN$'),         # possessive niuns\n",
        "    (r'.*s$', 'NNS'),           # plural nouns\n",
        "    (r'^-?[0-9]+(.[0-9]+)?$', 'CD'), # cardinal numbers\n",
        "    (r'.*', 'NN')                     # nouns\n",
        "]"
      ],
      "metadata": {
        "id": "gGoJD2v8FtRl"
      },
      "execution_count": 27,
      "outputs": []
    },
    {
      "cell_type": "code",
      "source": [
        "regexp_tagger = nltk.RegexpTagger(patterns)\n",
        "# help(regexp_Tagger)"
      ],
      "metadata": {
        "id": "Oc_jfW1XFtN8"
      },
      "execution_count": 28,
      "outputs": []
    },
    {
      "cell_type": "code",
      "source": [
        "regexp_tagger.evaluate(test_set)"
      ],
      "metadata": {
        "colab": {
          "base_uri": "https://localhost:8080/"
        },
        "id": "3lqLDdw5FtME",
        "outputId": "39ad0cd2-30a5-4942-da3e-778db834a0d8"
      },
      "execution_count": 29,
      "outputs": [
        {
          "output_type": "stream",
          "name": "stderr",
          "text": [
            "<ipython-input-29-84af8b614d0b>:1: DeprecationWarning: \n",
            "  Function evaluate() has been deprecated.  Use accuracy(gold)\n",
            "  instead.\n",
            "  regexp_tagger.evaluate(test_set)\n"
          ]
        },
        {
          "output_type": "execute_result",
          "data": {
            "text/plain": [
              "0.2157205528251476"
            ]
          },
          "metadata": {},
          "execution_count": 29
        }
      ]
    },
    {
      "cell_type": "markdown",
      "source": [
        "### Combining Taggers"
      ],
      "metadata": {
        "id": "HzqTQevXhnVs"
      }
    },
    {
      "cell_type": "code",
      "source": [
        "# rule based tagger\n",
        "rule_based_tagger = nltk.RegexpTagger(patterns)\n",
        "\n",
        "# lexicon backrd up bu the rule based tagger\n",
        "lexicon_tagger = nltk.UnigramTagger(train_set, backoff=rule_based_tagger)\n",
        "lexicon_tagger.evaluate(test_set)"
      ],
      "metadata": {
        "colab": {
          "base_uri": "https://localhost:8080/"
        },
        "id": "YkeCGdMOFtI8",
        "outputId": "25eea11b-3911-4620-efa0-c4d0df8211dd"
      },
      "execution_count": 30,
      "outputs": [
        {
          "output_type": "stream",
          "name": "stderr",
          "text": [
            "<ipython-input-30-8d3dd2ab4abc>:6: DeprecationWarning: \n",
            "  Function evaluate() has been deprecated.  Use accuracy(gold)\n",
            "  instead.\n",
            "  lexicon_tagger.evaluate(test_set)\n"
          ]
        },
        {
          "output_type": "execute_result",
          "data": {
            "text/plain": [
              "0.9063561698057195"
            ]
          },
          "metadata": {},
          "execution_count": 30
        }
      ]
    },
    {
      "cell_type": "code",
      "source": [],
      "metadata": {
        "id": "bs8goxFlFtF2"
      },
      "execution_count": 30,
      "outputs": []
    },
    {
      "cell_type": "code",
      "source": [],
      "metadata": {
        "id": "HN3kDRznFtC-"
      },
      "execution_count": 30,
      "outputs": []
    }
  ]
}