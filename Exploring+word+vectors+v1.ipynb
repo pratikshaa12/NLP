{
  "nbformat": 4,
  "nbformat_minor": 0,
  "metadata": {
    "colab": {
      "provenance": [],
      "include_colab_link": true
    },
    "kernelspec": {
      "name": "python3",
      "display_name": "Python 3"
    },
    "language_info": {
      "name": "python"
    }
  },
  "cells": [
    {
      "cell_type": "markdown",
      "metadata": {
        "id": "view-in-github",
        "colab_type": "text"
      },
      "source": [
        "<a href=\"https://colab.research.google.com/github/pratikshaa12/NLP/blob/main/Exploring%2Bword%2Bvectors%2Bv1.ipynb\" target=\"_parent\"><img src=\"https://colab.research.google.com/assets/colab-badge.svg\" alt=\"Open In Colab\"/></a>"
      ]
    },
    {
      "cell_type": "code",
      "execution_count": null,
      "metadata": {
        "id": "AMR_WZVAJ-yn"
      },
      "outputs": [],
      "source": [
        "import nltk\n",
        "from gensim.models import word2vec\n",
        "from gensim.models.word2vec import Word2Vec"
      ]
    },
    {
      "cell_type": "code",
      "source": [
        "import numpy as np\n",
        "import matplotlib.pyplot as plt\n",
        "import os"
      ],
      "metadata": {
        "id": "btFX42qcJ_R5"
      },
      "execution_count": null,
      "outputs": []
    },
    {
      "cell_type": "markdown",
      "source": [
        "Finding Similar Words: model.wv.most_similar('word')\n",
        "Word Analogies: model.wv.most_similar(positive=['word1', 'word2'], negative=['word3'])\n",
        "Word Vectors: model.wv['word']\n",
        "Dimensionality Reduction for Visualization: PCA or t-SNE\n",
        "Plotting: Use matplotlib to plot the 2D projections of word vectors.\n"
      ],
      "metadata": {
        "id": "dM9NxsvUyQKv"
      }
    },
    {
      "cell_type": "markdown",
      "source": [
        "### Creating our sentences to train the word vectors"
      ],
      "metadata": {
        "id": "2mAN0ZeTKr5I"
      }
    },
    {
      "cell_type": "code",
      "source": [
        "TextCorpus = [\"I like datatrained\",\n",
        "              \"Datatrained has a good ML program\",\n",
        "              \"Datatrained has good faculty\",\n",
        "              \"Chidri is that good faculty\",\n",
        "              \"I like ML\"\n",
        "]"
      ],
      "metadata": {
        "id": "cLuIIzQ6J_Ud"
      },
      "execution_count": null,
      "outputs": []
    },
    {
      "cell_type": "code",
      "source": [
        "text_tokens = [sent.split() for sent in TextCorpus]\n",
        "text_tokens[:2]"
      ],
      "metadata": {
        "colab": {
          "base_uri": "https://localhost:8080/"
        },
        "id": "HKlDDwymJ_XI",
        "outputId": "dd43cd5d-2cc7-4c36-dcc4-b8a51b0b70eb"
      },
      "execution_count": null,
      "outputs": [
        {
          "output_type": "execute_result",
          "data": {
            "text/plain": [
              "[['I', 'like', 'datatrained'],\n",
              " ['Datatrained', 'has', 'a', 'good', 'ML', 'program']]"
            ]
          },
          "metadata": {},
          "execution_count": 10
        }
      ]
    },
    {
      "cell_type": "markdown",
      "source": [
        "### Training the word vectors"
      ],
      "metadata": {
        "id": "IYAjKiKhLrFG"
      }
    },
    {
      "cell_type": "code",
      "source": [
        "model = Word2Vec(text_tokens,min_count=1)"
      ],
      "metadata": {
        "id": "8_cvKJfZLqvw"
      },
      "execution_count": null,
      "outputs": []
    },
    {
      "cell_type": "code",
      "source": [
        "model.wv['ML']"
      ],
      "metadata": {
        "colab": {
          "base_uri": "https://localhost:8080/"
        },
        "id": "Q9JD0qHuJ_aC",
        "outputId": "751a6ab3-ade7-4d4c-f2c0-2373bd4d26cb"
      },
      "execution_count": null,
      "outputs": [
        {
          "output_type": "execute_result",
          "data": {
            "text/plain": [
              "array([ 9.4563962e-05,  3.0773198e-03, -6.8126451e-03, -1.3754654e-03,\n",
              "        7.6685809e-03,  7.3464094e-03, -3.6732971e-03,  2.6427018e-03,\n",
              "       -8.3171297e-03,  6.2054861e-03, -4.6373224e-03, -3.1641065e-03,\n",
              "        9.3113566e-03,  8.7338570e-04,  7.4907029e-03, -6.0740625e-03,\n",
              "        5.1605068e-03,  9.9228229e-03, -8.4573915e-03, -5.1356913e-03,\n",
              "       -7.0648370e-03, -4.8626517e-03, -3.7785638e-03, -8.5361991e-03,\n",
              "        7.9556061e-03, -4.8439382e-03,  8.4236134e-03,  5.2625705e-03,\n",
              "       -6.5500261e-03,  3.9578713e-03,  5.4701497e-03, -7.4265362e-03,\n",
              "       -7.4057197e-03, -2.4752307e-03, -8.6257253e-03, -1.5815723e-03,\n",
              "       -4.0343284e-04,  3.2996845e-03,  1.4418805e-03, -8.8142155e-04,\n",
              "       -5.5940580e-03,  1.7303658e-03, -8.9737179e-04,  6.7936908e-03,\n",
              "        3.9735902e-03,  4.5294715e-03,  1.4343059e-03, -2.6998555e-03,\n",
              "       -4.3668128e-03, -1.0320747e-03,  1.4370275e-03, -2.6460087e-03,\n",
              "       -7.0737829e-03, -7.8053069e-03, -9.1217868e-03, -5.9351693e-03,\n",
              "       -1.8474245e-03, -4.3238713e-03, -6.4606704e-03, -3.7173224e-03,\n",
              "        4.2891586e-03, -3.7390434e-03,  8.3781751e-03,  1.5339935e-03,\n",
              "       -7.2423196e-03,  9.4337985e-03,  7.6312125e-03,  5.4932819e-03,\n",
              "       -6.8488456e-03,  5.8226790e-03,  4.0090932e-03,  5.1853694e-03,\n",
              "        4.2559016e-03,  1.9397545e-03, -3.1701624e-03,  8.3538452e-03,\n",
              "        9.6121803e-03,  3.7926030e-03, -2.8369951e-03,  7.1275235e-06,\n",
              "        1.2188185e-03, -8.4583247e-03, -8.2239453e-03, -2.3101569e-04,\n",
              "        1.2372875e-03, -5.7433806e-03, -4.7252737e-03, -7.3460746e-03,\n",
              "        8.3286157e-03,  1.2129784e-04, -4.5093987e-03,  5.7017053e-03,\n",
              "        9.1800150e-03, -4.0998720e-03,  7.9646818e-03,  5.3754342e-03,\n",
              "        5.8791232e-03,  5.1259040e-04,  8.2130842e-03, -7.0190406e-03],\n",
              "      dtype=float32)"
            ]
          },
          "metadata": {},
          "execution_count": 14
        }
      ]
    },
    {
      "cell_type": "code",
      "source": [
        "len(model.wv['ML'])"
      ],
      "metadata": {
        "colab": {
          "base_uri": "https://localhost:8080/"
        },
        "id": "5JLWSuTgJ_c1",
        "outputId": "67d29e0b-1a75-46f2-89c1-1e859c012942"
      },
      "execution_count": null,
      "outputs": [
        {
          "output_type": "execute_result",
          "data": {
            "text/plain": [
              "100"
            ]
          },
          "metadata": {},
          "execution_count": 15
        }
      ]
    },
    {
      "cell_type": "code",
      "source": [
        "model.wv.most_similar(\"faculty\", topn=5)"
      ],
      "metadata": {
        "colab": {
          "base_uri": "https://localhost:8080/"
        },
        "id": "mtJefOU5MVfh",
        "outputId": "80ec6351-8643-478f-83a9-6dba04f6ae1d"
      },
      "execution_count": null,
      "outputs": [
        {
          "output_type": "execute_result",
          "data": {
            "text/plain": [
              "[('has', 0.06836597621440887),\n",
              " ('is', 0.03370187059044838),\n",
              " ('like', 0.00945278350263834),\n",
              " ('a', 0.008384964428842068),\n",
              " ('Datatrained', 0.004473232664167881)]"
            ]
          },
          "metadata": {},
          "execution_count": 16
        }
      ]
    },
    {
      "cell_type": "markdown",
      "source": [
        "#### Training our word vectors on the text8 corpus"
      ],
      "metadata": {
        "id": "KUfxWooqM-Cd"
      }
    },
    {
      "cell_type": "markdown",
      "source": [
        "##### Importing the raw text file"
      ],
      "metadata": {
        "id": "ik8dPv9ANEx4"
      }
    },
    {
      "cell_type": "markdown",
      "source": [
        "Text8Corpus: This loads the text8 dataset.\n",
        "Word2Vec: This is the model we use to train word embeddings.\n",
        "vector_size=100: The dimensionality of the word vectors.\n",
        "window=5: The maximum distance between the current and predicted words.\n",
        "min_count=5: Ignores words that appear less than 5 times in the dataset.\n",
        "sg=0: Specifies that you want to use CBOW (Continuous Bag of Words) rather than Skip-gram.\n"
      ],
      "metadata": {
        "id": "04-8eiSixj4z"
      }
    },
    {
      "cell_type": "code",
      "source": [
        "sentences= word2vec.Text8Corpus('text8')"
      ],
      "metadata": {
        "id": "bLANzGkYMhJO"
      },
      "execution_count": null,
      "outputs": []
    },
    {
      "cell_type": "code",
      "source": [
        "type(sentences)"
      ],
      "metadata": {
        "colab": {
          "base_uri": "https://localhost:8080/",
          "height": 120
        },
        "id": "3HIuEY6QNLTY",
        "outputId": "83ff5d85-2306-40c7-a767-be90fdc7339f"
      },
      "execution_count": null,
      "outputs": [
        {
          "output_type": "execute_result",
          "data": {
            "text/plain": [
              "gensim.models.word2vec.Text8Corpus"
            ],
            "text/html": [
              "<div style=\"max-width:800px; border: 1px solid var(--colab-border-color);\"><style>\n",
              "      pre.function-repr-contents {\n",
              "        overflow-x: auto;\n",
              "        padding: 8px 12px;\n",
              "        max-height: 500px;\n",
              "      }\n",
              "\n",
              "      pre.function-repr-contents.function-repr-contents-collapsed {\n",
              "        cursor: pointer;\n",
              "        max-height: 100px;\n",
              "      }\n",
              "    </style>\n",
              "    <pre style=\"white-space: initial; background:\n",
              "         var(--colab-secondary-surface-color); padding: 8px 12px;\n",
              "         border-bottom: 1px solid var(--colab-border-color);\"><b>gensim.models.word2vec.Text8Corpus</b><br/>def __init__(fname, max_sentence_length=MAX_WORDS_IN_BATCH)</pre><pre class=\"function-repr-contents function-repr-contents-collapsed\" style=\"\"><a class=\"filepath\" style=\"display:none\" href=\"#\">/usr/local/lib/python3.11/dist-packages/gensim/models/word2vec.py</a>&lt;no docstring&gt;</pre>\n",
              "      <script>\n",
              "      if (google.colab.kernel.accessAllowed && google.colab.files && google.colab.files.view) {\n",
              "        for (const element of document.querySelectorAll('.filepath')) {\n",
              "          element.style.display = 'block'\n",
              "          element.onclick = (event) => {\n",
              "            event.preventDefault();\n",
              "            event.stopPropagation();\n",
              "            google.colab.files.view(element.textContent, 2042);\n",
              "          };\n",
              "        }\n",
              "      }\n",
              "      for (const element of document.querySelectorAll('.function-repr-contents')) {\n",
              "        element.onclick = (event) => {\n",
              "          event.preventDefault();\n",
              "          event.stopPropagation();\n",
              "          element.classList.toggle('function-repr-contents-collapsed');\n",
              "        };\n",
              "      }\n",
              "      </script>\n",
              "      </div>"
            ]
          },
          "metadata": {},
          "execution_count": 70
        }
      ]
    },
    {
      "cell_type": "code",
      "source": [
        "from gensim.models import Word2Vec\n",
        "from gensim.models.word2vec import Text8Corpus\n",
        "\n",
        "# Path to the text8 file\n",
        "corpus = Text8Corpus('/content/text8')  # Replace with the correct path if needed\n"
      ],
      "metadata": {
        "id": "dHOktr9u2Yrn"
      },
      "execution_count": null,
      "outputs": []
    },
    {
      "cell_type": "code",
      "source": [
        "# Check if 'king' is in the model's vocabulary\n",
        "if 'king' in model:\n",
        "    print(\"'king' is in the vocabulary!\")\n",
        "else:\n",
        "    print(\"'king' is not in the vocabulary.\")\n",
        "\n",
        "# Find similar words to 'king'\n",
        "similar_words = model.most_similar('king', topn=10)\n",
        "print(\"Most similar words to 'king':\")\n",
        "for word, similarity in similar_words:\n",
        "    print(f\"{word}: {similarity}\")\n"
      ],
      "metadata": {
        "colab": {
          "base_uri": "https://localhost:8080/"
        },
        "id": "EMlhWcUUtesD",
        "outputId": "1b4d3464-c55c-403d-fa96-5343cabb0468"
      },
      "execution_count": null,
      "outputs": [
        {
          "output_type": "stream",
          "name": "stdout",
          "text": [
            "'king' is in the vocabulary!\n",
            "Most similar words to 'king':\n",
            "kings: 0.7138045430183411\n",
            "queen: 0.6510956883430481\n",
            "monarch: 0.6413194537162781\n",
            "crown_prince: 0.6204220056533813\n",
            "prince: 0.6159993410110474\n",
            "sultan: 0.5864824056625366\n",
            "ruler: 0.5797567367553711\n",
            "princes: 0.5646552443504333\n",
            "Prince_Paras: 0.5432944297790527\n",
            "throne: 0.5422105193138123\n"
          ]
        }
      ]
    },
    {
      "cell_type": "markdown",
      "source": [
        "##### Using all default parameters"
      ],
      "metadata": {
        "id": "WDJMEB80NlXH"
      }
    },
    {
      "cell_type": "code",
      "source": [
        "model.most_similar(\"happiness\")"
      ],
      "metadata": {
        "colab": {
          "base_uri": "https://localhost:8080/"
        },
        "id": "oDmCjYuq2v2M",
        "outputId": "c28a17a5-73f5-4862-e945-173959f8b898"
      },
      "execution_count": null,
      "outputs": [
        {
          "output_type": "execute_result",
          "data": {
            "text/plain": [
              "[('contentment', 0.7695190906524658),\n",
              " ('joy', 0.6182845830917358),\n",
              " ('Happiness', 0.6116278171539307),\n",
              " ('hapiness', 0.5748556852340698),\n",
              " ('contentedness', 0.5574802756309509),\n",
              " ('happiness_quotient', 0.5532097816467285),\n",
              " ('prosocial_spending', 0.5406398773193359),\n",
              " ('happyness', 0.5387449264526367),\n",
              " ('marital_bliss', 0.5288689732551575),\n",
              " ('satisfaction', 0.5283578038215637)]"
            ]
          },
          "metadata": {},
          "execution_count": 88
        }
      ]
    },
    {
      "cell_type": "code",
      "source": [
        "# Example: king - man + woman = ?\n",
        "analogy = model.most_similar(positive=['queen', 'man'], negative=['king'], topn=1)\n",
        "print(f\"Analogy result: {analogy[0]}\")\n"
      ],
      "metadata": {
        "colab": {
          "base_uri": "https://localhost:8080/"
        },
        "id": "V4i3JGwH3S94",
        "outputId": "773d0413-e946-4962-ff6d-2bfb59ad8978"
      },
      "execution_count": null,
      "outputs": [
        {
          "output_type": "stream",
          "name": "stdout",
          "text": [
            "Analogy result: ('woman', 0.7609435319900513)\n"
          ]
        }
      ]
    },
    {
      "cell_type": "code",
      "source": [
        "model.most_similar(\"queen\")"
      ],
      "metadata": {
        "id": "_zArx9ITNLYg",
        "colab": {
          "base_uri": "https://localhost:8080/"
        },
        "outputId": "1ead7fba-94a1-4e61-ded8-05f5d54f32b6"
      },
      "execution_count": null,
      "outputs": [
        {
          "output_type": "execute_result",
          "data": {
            "text/plain": [
              "[('queens', 0.739944338798523),\n",
              " ('princess', 0.7070532441139221),\n",
              " ('king', 0.6510956883430481),\n",
              " ('monarch', 0.6383602023124695),\n",
              " ('very_pampered_McElhatton', 0.6357026696205139),\n",
              " ('Queen', 0.6163407564163208),\n",
              " ('NYC_anglophiles_aflutter', 0.6060680150985718),\n",
              " ('Queen_Consort', 0.5923796892166138),\n",
              " ('princesses', 0.5908074975013733),\n",
              " ('royal', 0.5637185573577881)]"
            ]
          },
          "metadata": {},
          "execution_count": 90
        }
      ]
    },
    {
      "cell_type": "code",
      "source": [
        "model.most_similar(positive=['woman', 'king'], negative=['man'], topn=5)"
      ],
      "metadata": {
        "id": "Jkvb-lV4NLee",
        "colab": {
          "base_uri": "https://localhost:8080/"
        },
        "outputId": "628e6fe0-8b20-4d4e-f426-70d8aa7c2395"
      },
      "execution_count": null,
      "outputs": [
        {
          "output_type": "execute_result",
          "data": {
            "text/plain": [
              "[('queen', 0.7118193507194519),\n",
              " ('monarch', 0.6189674139022827),\n",
              " ('princess', 0.5902431011199951),\n",
              " ('crown_prince', 0.5499460697174072),\n",
              " ('prince', 0.5377321839332581)]"
            ]
          },
          "metadata": {},
          "execution_count": 92
        }
      ]
    },
    {
      "cell_type": "code",
      "source": [
        "model.most_similar(positive=['woman', 'hero'], negative=['man'], topn=5)"
      ],
      "metadata": {
        "colab": {
          "base_uri": "https://localhost:8080/"
        },
        "id": "aqSiSJ2DjWok",
        "outputId": "5b61e85a-7b9f-485c-c32e-71072d273727"
      },
      "execution_count": null,
      "outputs": [
        {
          "output_type": "execute_result",
          "data": {
            "text/plain": [
              "[('heroine', 0.68734210729599),\n",
              " ('heroes', 0.601749062538147),\n",
              " ('heroines', 0.5402278900146484),\n",
              " ('feminist_icon', 0.4989328682422638),\n",
              " ('idol', 0.49238699674606323)]"
            ]
          },
          "metadata": {},
          "execution_count": 94
        }
      ]
    },
    {
      "cell_type": "markdown",
      "source": [
        "#### Visualizing these word vectors"
      ],
      "metadata": {
        "id": "uTILEIxyk6ca"
      }
    },
    {
      "cell_type": "code",
      "source": [
        "vectors = model.wv.key_to_index"
      ],
      "metadata": {
        "id": "Gr53AptljWlG"
      },
      "execution_count": null,
      "outputs": []
    },
    {
      "cell_type": "markdown",
      "source": [
        "#### We'll use PCA to reduce and visualize in 2 dimentions"
      ],
      "metadata": {
        "id": "QtCnJnUUlgjE"
      }
    },
    {
      "cell_type": "code",
      "source": [
        "from sklearn.decomposition import PCA"
      ],
      "metadata": {
        "id": "sJwU_QVylpiX"
      },
      "execution_count": null,
      "outputs": []
    },
    {
      "cell_type": "markdown",
      "source": [],
      "metadata": {
        "id": "Xrgqgqzrn-w_"
      }
    },
    {
      "cell_type": "markdown",
      "source": [
        "#### randomly select 100 words"
      ],
      "metadata": {
        "id": "B7ErD1z4lzC2"
      }
    },
    {
      "cell_type": "code",
      "source": [
        "import numpy as np\n",
        "from sklearn.decomposition import PCA\n",
        "\n",
        "# Get all word vectors from the model (ignoring the dictionary keys)\n",
        "vectors = np.array([model.wv.get_vector(word) for word in model.wv.key_to_index])\n",
        "\n",
        "# Apply PCA to reduce dimensions to 2\n",
        "pca = PCA(n_components=2)\n",
        "result = pca.fit_transform(vectors)\n",
        "\n",
        "# The result is now a 2D array with shape (n_words, 2), where each row corresponds to a word in 2D space.\n",
        "print(\"PCA result:\\n\", result)\n"
      ],
      "metadata": {
        "colab": {
          "base_uri": "https://localhost:8080/"
        },
        "id": "X8b3cKK2n3KL",
        "outputId": "05609935-44ce-461c-cc84-81a81101dc71"
      },
      "execution_count": null,
      "outputs": [
        {
          "output_type": "stream",
          "name": "stdout",
          "text": [
            "PCA result:\n",
            " [[ 0.00865436  0.02481708]\n",
            " [ 0.0162164  -0.01767665]\n",
            " [ 0.03153841  0.01346571]\n",
            " [ 0.01105889 -0.01979739]\n",
            " [ 0.01815814  0.0006639 ]\n",
            " [ 0.03190202 -0.01257688]\n",
            " [-0.00651104  0.02018115]\n",
            " [-0.01271818  0.00249   ]\n",
            " [ 0.02195229  0.00604992]\n",
            " [-0.00598486  0.01711911]\n",
            " [-0.01374665 -0.00829535]\n",
            " [ 0.01844243 -0.00511467]\n",
            " [-0.00072476 -0.00077748]\n",
            " [-0.01449476 -0.01618976]\n",
            " [-0.01473935 -0.01620282]\n",
            " [ 0.00449749 -0.00161431]\n",
            " [-0.00621591  0.02750703]\n",
            " [ 0.00124544 -0.03140703]\n",
            " [-0.00113453 -0.00110115]\n",
            " [-0.02059779  0.01016891]\n",
            " [ 0.01534603  0.00476579]\n",
            " [-0.01321999  0.00577517]\n",
            " [-0.00890518 -0.01478384]\n",
            " [-0.02903627 -0.01982765]\n",
            " [-0.00840399 -0.01828809]\n",
            " [-0.01747277 -0.00222042]\n",
            " [-0.00690288  0.0036339 ]\n",
            " [ 0.0162916   0.01104063]\n",
            " [-0.022365    0.03449694]\n",
            " [-0.00886034  0.00085825]\n",
            " [ 0.01673074  0.00284003]]\n"
          ]
        }
      ]
    },
    {
      "cell_type": "code",
      "source": [
        "import random\n",
        "random.seed(2)"
      ],
      "metadata": {
        "id": "IDkCDPqLjWgH"
      },
      "execution_count": null,
      "outputs": []
    },
    {
      "cell_type": "markdown",
      "source": [],
      "metadata": {
        "id": "sWPnFoWxpk8w"
      }
    },
    {
      "cell_type": "code",
      "source": [
        "import random\n",
        "\n",
        "# Ensure we don't sample more than we have\n",
        "sample_size = min(100, len(vectors))\n",
        "\n",
        "# Sample random indices\n",
        "ind = random.sample(range(0, len(vectors)), sample_size)\n",
        "\n",
        "# Get the corresponding 2D results and words\n",
        "result_random = result[ind]\n",
        "all_words = list(model.wv.key_to_index)\n",
        "words = [all_words[i] for i in ind]\n",
        "\n",
        "print(\"Words sampled:\", words)\n"
      ],
      "metadata": {
        "colab": {
          "base_uri": "https://localhost:8080/"
        },
        "id": "diSS05ZHor6z",
        "outputId": "66b2de5b-5a4c-4fdd-97ff-04ee27642a77"
      },
      "execution_count": null,
      "outputs": [
        {
          "output_type": "stream",
          "name": "stdout",
          "text": [
            "Words sampled: ['home', 'became', 'royal', 'of', 'in', 'After', 'on', 'a', 'their', 'she', 'her', 'Albert', 'to', 'for', 'British', 'Queen', 'at', 'but', 'by', 'In', 'with', 'The', 'as', 'Elizabeth', 'was', 'Her', 'the', 'She', 'from', 'public', 'and']\n"
          ]
        }
      ]
    },
    {
      "cell_type": "code",
      "source": [
        "plt.figure(figsize=(12,12))\n",
        "plt.scatter(result_random[:,0],result_random[:,1])\n",
        "for i, word in enumerate(words):\n",
        "  plt.annotate(word,xy=(result_random[i,0], result_random[i,1]))\n",
        "plt.show()\n"
      ],
      "metadata": {
        "colab": {
          "base_uri": "https://localhost:8080/",
          "height": 984
        },
        "id": "q6OIGKmcoHv1",
        "outputId": "911f9139-3331-400e-c913-18b814e1f40b"
      },
      "execution_count": null,
      "outputs": [
        {
          "output_type": "display_data",
          "data": {
            "text/plain": [
              "<Figure size 1200x1200 with 1 Axes>"
            ],
            "image/png": "[encoded data removed]"
          },
          "metadata": {}
        }
      ]
    },
    {
      "cell_type": "markdown",
      "source": [
        "#### Effect of vector dimension"
      ],
      "metadata": {
        "id": "21P5WZeAyjNW"
      }
    },
    {
      "cell_type": "markdown",
      "source": [
        "##### Reducing the length to 50"
      ],
      "metadata": {
        "id": "VmVXnBuEynp3"
      }
    },
    {
      "cell_type": "code",
      "source": [
        "from gensim.models import Word2Vec\n",
        "from gensim.models.word2vec import Text8Corpus\n",
        "\n",
        "# Load the text8 corpus using Gensim's Text8Corpus (provides tokenized sentences)\n",
        "corpus = Text8Corpus('/content/text8')  # Specify the correct path to the text8 file\n",
        "\n",
        "# Initialize the Word2Vec model with desired parameters\n",
        "model = Word2Vec(vector_size=50, window=5, min_count=5, sg=0)\n",
        "\n",
        "# Build the vocabulary based on the corpus\n",
        "model.build_vocab(corpus)\n",
        "\n",
        "\n",
        "# Example: Get the vector for the word 'money'\n",
        "vector = model.wv['money']\n",
        "print(\"Vector for 'money':\", vector)\n",
        "\n",
        "# Example: Find words similar to 'money'\n",
        "similar_words = model.wv.most_similar('money', topn=10)\n",
        "print(\"Similar words to 'money':\", similar_words)"
      ],
      "metadata": {
        "colab": {
          "base_uri": "https://localhost:8080/"
        },
        "id": "YpNs8_fVBWDz",
        "outputId": "f2b56c5d-930e-41d1-c922-83274e4d2e7d"
      },
      "execution_count": null,
      "outputs": [
        {
          "output_type": "stream",
          "name": "stdout",
          "text": [
            "Vector for 'money': [ 0.01101171  0.01124617 -0.01012993  0.01201778 -0.00965052  0.00463613\n",
            "  0.01921067 -0.01876361 -0.0027427   0.00114866  0.00173351 -0.01079411\n",
            " -0.017669   -0.01390998 -0.01518813 -0.00631444  0.01869991 -0.01314305\n",
            "  0.00291037  0.00445437 -0.00727416 -0.00855186  0.00473073 -0.00841739\n",
            "  0.0068133  -0.01522664 -0.01989082  0.01478917 -0.00568355 -0.00881672\n",
            "  0.01844805 -0.00892426  0.01897125  0.00862436  0.00816433  0.01747336\n",
            " -0.00693177 -0.00958174  0.01461483  0.01924561 -0.00259451  0.01252194\n",
            " -0.00346265 -0.01673998 -0.00837275 -0.00924587 -0.00774513  0.01376135\n",
            "  0.01870649 -0.00596424]\n",
            "Similar words to 'money': [('groote', 0.6026614308357239), ('fishy', 0.5562654733657837), ('altix', 0.5409046411514282), ('pseudotsuga', 0.5297660231590271), ('obligation', 0.5289642214775085), ('benicio', 0.5199006199836731), ('bolsover', 0.5144097805023193), ('montferrat', 0.5038042068481445), ('sza', 0.5027715563774109), ('kvac', 0.4971664249897003)]\n"
          ]
        }
      ]
    },
    {
      "cell_type": "code",
      "source": [],
      "metadata": {
        "id": "9PX-j1e0BiyX"
      },
      "execution_count": null,
      "outputs": []
    },
    {
      "cell_type": "code",
      "source": [
        "from gensim.models import Word2Vec\n",
        "\n",
        "# Define your sentences (tokenized text)\n",
        "sentences = [\n",
        "    ['this', 'is', 'a', 'sentence'],\n",
        "    ['another', 'example', 'sentence'],\n",
        "    ['word2vec', 'is', 'powerful'],\n",
        "]\n",
        "\n",
        "# Train the Word2Vec model with a vector size of 50\n",
        "model = Word2Vec(sentences, vector_size=50, window=5, min_count=1, sg=0)\n",
        "\n",
        "# Save the model\n",
        "model.save(\"word2vec_model.model\")\n",
        "\n",
        "# Use the model to find similar words to 'sentence'\n",
        "similar_words = model.wv.most_similar('sentence', topn=1)\n",
        "print(similar_words)\n"
      ],
      "metadata": {
        "colab": {
          "base_uri": "https://localhost:8080/"
        },
        "id": "qs440M7X9ouT",
        "outputId": "778f3647-644e-4ef9-efb9-01e4bcc4ee12"
      },
      "execution_count": null,
      "outputs": [
        {
          "output_type": "stream",
          "name": "stdout",
          "text": [
            "[('this', 0.13204392790794373)]\n"
          ]
        }
      ]
    },
    {
      "cell_type": "code",
      "source": [
        "model.wv.most_similar('money')"
      ],
      "metadata": {
        "colab": {
          "base_uri": "https://localhost:8080/"
        },
        "id": "qIluUTJky2-D",
        "outputId": "91122122-6ae7-4839-d1a4-b7b6ab32ec0e"
      },
      "execution_count": null,
      "outputs": [
        {
          "output_type": "execute_result",
          "data": {
            "text/plain": [
              "[('groote', 0.6026614308357239),\n",
              " ('fishy', 0.5562654733657837),\n",
              " ('altix', 0.5409046411514282),\n",
              " ('pseudotsuga', 0.5297660231590271),\n",
              " ('obligation', 0.5289642214775085),\n",
              " ('benicio', 0.5199006199836731),\n",
              " ('bolsover', 0.5144097805023193),\n",
              " ('montferrat', 0.5038042068481445),\n",
              " ('sza', 0.5027715563774109),\n",
              " ('kvac', 0.4971664249897003)]"
            ]
          },
          "metadata": {},
          "execution_count": 114
        }
      ]
    },
    {
      "cell_type": "code",
      "source": [
        "model.wv.most_similar(\"queen\", topn=5)"
      ],
      "metadata": {
        "colab": {
          "base_uri": "https://localhost:8080/"
        },
        "id": "NqjoWZ1Cy26V",
        "outputId": "a192ec34-85df-408f-b2f5-921f33086aa3"
      },
      "execution_count": null,
      "outputs": [
        {
          "output_type": "execute_result",
          "data": {
            "text/plain": [
              "[('collegiate', 0.5745934844017029),\n",
              " ('theognis', 0.5605676174163818),\n",
              " ('enacts', 0.557968258857727),\n",
              " ('atat', 0.5554683208465576),\n",
              " ('anuradhapura', 0.5450182557106018)]"
            ]
          },
          "metadata": {},
          "execution_count": 116
        }
      ]
    },
    {
      "cell_type": "code",
      "source": [
        "model.wv.most_similar(positive=['woman', 'king'], negative=['man'], topn=5)"
      ],
      "metadata": {
        "colab": {
          "base_uri": "https://localhost:8080/"
        },
        "id": "oMgqCbyh4wHu",
        "outputId": "05971c2f-e11b-4d23-dabb-bb51fcb02f7f"
      },
      "execution_count": null,
      "outputs": [
        {
          "output_type": "execute_result",
          "data": {
            "text/plain": [
              "[('lortie', 0.6321567893028259),\n",
              " ('loth', 0.5583350658416748),\n",
              " ('mariam', 0.5571677684783936),\n",
              " ('scandinavia', 0.5427408814430237),\n",
              " ('inadequate', 0.5303460955619812)]"
            ]
          },
          "metadata": {},
          "execution_count": 117
        }
      ]
    },
    {
      "cell_type": "markdown",
      "source": [
        "### Skipgram vs CBOW"
      ],
      "metadata": {
        "id": "RjLlwmSMWNlW"
      }
    },
    {
      "cell_type": "markdown",
      "source": [
        "Simply put, the CBOW model learns the embedding by predicting the current word based on its context. The skip-gram model learns by predicting the surrounding words given a current word."
      ],
      "metadata": {
        "id": "mwW2aOwaWITw"
      }
    },
    {
      "cell_type": "markdown",
      "source": [
        "#### Using Skipgram method"
      ],
      "metadata": {
        "id": "KEIw9m2tYnXF"
      }
    },
    {
      "cell_type": "markdown",
      "source": [
        "## Word vectors trained on different contexts\n",
        " - We'll load different corpora, from different contexts and see how the embeddings vary\n",
        " - The text8 corpus is wikipedia pages, while Brown corpus is from 15 different topics, and movie reviews are from IMDB"
      ],
      "metadata": {
        "id": "cE9m8uk6Yrq9"
      }
    },
    {
      "cell_type": "code",
      "source": [
        "from nltk.corpus import brown,movie_reviews"
      ],
      "metadata": {
        "id": "XuBgwVvAy23I"
      },
      "execution_count": null,
      "outputs": []
    },
    {
      "cell_type": "code",
      "source": [
        "import nltk\n",
        "nltk.download('brown')\n",
        "nltk.download('movie_reviews')\n"
      ],
      "metadata": {
        "colab": {
          "base_uri": "https://localhost:8080/"
        },
        "id": "pCbOvPgJB4w7",
        "outputId": "1027e5bb-00b3-4a17-a0ff-a8c5031365e6"
      },
      "execution_count": null,
      "outputs": [
        {
          "output_type": "stream",
          "name": "stderr",
          "text": [
            "[nltk_data] Downloading package brown to /root/nltk_data...\n",
            "[nltk_data]   Package brown is already up-to-date!\n",
            "[nltk_data] Downloading package movie_reviews to /root/nltk_data...\n",
            "[nltk_data]   Unzipping corpora/movie_reviews.zip.\n"
          ]
        },
        {
          "output_type": "execute_result",
          "data": {
            "text/plain": [
              "True"
            ]
          },
          "metadata": {},
          "execution_count": 122
        }
      ]
    },
    {
      "cell_type": "code",
      "source": [
        "nltk.download('punkt_tab')"
      ],
      "metadata": {
        "colab": {
          "base_uri": "https://localhost:8080/"
        },
        "id": "dreey9IbCuzd",
        "outputId": "a41ae75c-c272-424b-ea71-9fc6532efb81"
      },
      "execution_count": null,
      "outputs": [
        {
          "output_type": "stream",
          "name": "stderr",
          "text": [
            "[nltk_data] Downloading package punkt_tab to /root/nltk_data...\n",
            "[nltk_data]   Unzipping tokenizers/punkt_tab.zip.\n"
          ]
        },
        {
          "output_type": "execute_result",
          "data": {
            "text/plain": [
              "True"
            ]
          },
          "metadata": {},
          "execution_count": 124
        }
      ]
    },
    {
      "cell_type": "code",
      "source": [
        "model_brown = Word2Vec(brown.sents(), sg=1)\n",
        "model_movie = Word2Vec(movie_reviews.sents(), sg=1, window=5)\n"
      ],
      "metadata": {
        "id": "xyFS-wf5y20Q"
      },
      "execution_count": null,
      "outputs": []
    },
    {
      "cell_type": "code",
      "source": [
        "from gensim.models import Word2Vec\n",
        "from nltk.tokenize import word_tokenize\n",
        "import nltk\n",
        "\n",
        "nltk.download('punkt_tab')\n",
        "\n",
        "# Sample corpus (replace with your own text data)\n",
        "corpus = [\"This is a sample sentence.\", \"Word2Vec is great for word embeddings.\", \"Money makes the world go round.\"]\n",
        "\n",
        "# Tokenize sentences\n",
        "tokenized_corpus = [word_tokenize(sentence.lower()) for sentence in corpus]\n",
        "\n",
        "# Train a Word2Vec model (skip-gram)\n",
        "model_sg = Word2Vec(tokenized_corpus, vector_size=100, window=5, sg=1, min_count=1)\n",
        "\n",
        "# Save the model\n",
        "model_sg.save(\"my_model_sg.model\")\n",
        "\n",
        "# Example usage\n",
        "print(model_sg.wv.most_similar('money', topn=5))\n"
      ],
      "metadata": {
        "colab": {
          "base_uri": "https://localhost:8080/"
        },
        "id": "UqfHCNMtSf8y",
        "outputId": "efd245ef-ef73-4e28-ed4c-830c9e192f9f"
      },
      "execution_count": 3,
      "outputs": [
        {
          "output_type": "stream",
          "name": "stderr",
          "text": [
            "[nltk_data] Downloading package punkt_tab to /root/nltk_data...\n",
            "[nltk_data]   Unzipping tokenizers/punkt_tab.zip.\n"
          ]
        },
        {
          "output_type": "stream",
          "name": "stdout",
          "text": [
            "[('a', 0.1501632034778595), ('word', 0.12816618382930756), ('.', 0.09319855272769928), ('the', 0.09220024943351746), ('round', 0.04664919152855873)]\n"
          ]
        }
      ]
    },
    {
      "cell_type": "code",
      "source": [
        "model_sg.wv.most_similar('money',topn=5)"
      ],
      "metadata": {
        "colab": {
          "base_uri": "https://localhost:8080/"
        },
        "id": "w0dGBROz7ywy",
        "outputId": "63b0c47a-45e6-4951-de15-a6584aebf675"
      },
      "execution_count": 4,
      "outputs": [
        {
          "output_type": "execute_result",
          "data": {
            "text/plain": [
              "[('a', 0.1501632034778595),\n",
              " ('word', 0.12816618382930756),\n",
              " ('.', 0.09319855272769928),\n",
              " ('the', 0.09220024943351746),\n",
              " ('round', 0.04664919152855873)]"
            ]
          },
          "metadata": {},
          "execution_count": 4
        }
      ]
    },
    {
      "cell_type": "code",
      "source": [
        "model_brown.wv.most_similar('money', topn=5)"
      ],
      "metadata": {
        "colab": {
          "base_uri": "https://localhost:8080/"
        },
        "id": "fUBQaGb77y0y",
        "outputId": "eb8f621f-4c83-496c-eeae-050d654bab06"
      },
      "execution_count": null,
      "outputs": [
        {
          "output_type": "execute_result",
          "data": {
            "text/plain": [
              "[('care', 0.8279735445976257),\n",
              " ('job', 0.8213279843330383),\n",
              " ('anywhere', 0.8031992316246033),\n",
              " ('friendship', 0.8013567328453064),\n",
              " ('risk', 0.7990204691886902)]"
            ]
          },
          "metadata": {},
          "execution_count": 128
        }
      ]
    },
    {
      "cell_type": "code",
      "source": [
        "model_movie.wv.most_similar('money', topn=5)"
      ],
      "metadata": {
        "colab": {
          "base_uri": "https://localhost:8080/"
        },
        "id": "HbHD794N7y3X",
        "outputId": "28ca9a65-8738-47e1-aebd-df9a6f7b691a"
      },
      "execution_count": null,
      "outputs": [
        {
          "output_type": "execute_result",
          "data": {
            "text/plain": [
              "[('cash', 0.7482981085777283),\n",
              " ('risk', 0.7003766894340515),\n",
              " ('pay', 0.6921611428260803),\n",
              " ('ransom', 0.6911232471466064),\n",
              " ('bucks', 0.668788492679596)]"
            ]
          },
          "metadata": {},
          "execution_count": 129
        }
      ]
    },
    {
      "cell_type": "markdown",
      "source": [
        "#### Using pre-trained word vectors"
      ],
      "metadata": {
        "id": "fM6EUQYYd7GG"
      }
    },
    {
      "cell_type": "markdown",
      "source": [
        "### A quick note on Glove:\n",
        "   - Developed by Stanford by training on 6 Billion tokens\n",
        "   - Objective is slightly different\n",
        "   - End result very similar to Google's word2vec"
      ],
      "metadata": {
        "id": "XWpsA_RuVZwu"
      }
    },
    {
      "cell_type": "markdown",
      "source": [
        "- We'll use the 100D vectors for this example.\n",
        "- The trained vectors are available in a text file\n",
        "- The format is slightly different from that of word2vec, necessitating the use of a utility to format accordingly"
      ],
      "metadata": {
        "id": "MJBN_w3gV48r"
      }
    },
    {
      "cell_type": "code",
      "source": [
        "from gensim.scripts.glove2word2vec import glove2word2vec\n",
        "glove_input_file =\"/content/glove.6B.100d.txt\"\n",
        "word2vec_output_file =\"/content/glove.6B.100d.w2vformat.txt\"\n",
        "glove2word2vec(glove_input_file, word2vec_output_file )"
      ],
      "metadata": {
        "id": "q9N4jerk7y5k",
        "colab": {
          "base_uri": "https://localhost:8080/"
        },
        "outputId": "d0075c99-d6c5-40ad-ccd2-e477afc3678e"
      },
      "execution_count": 6,
      "outputs": [
        {
          "output_type": "stream",
          "name": "stderr",
          "text": [
            "<ipython-input-6-fe62bc4c4505>:4: DeprecationWarning: Call to deprecated `glove2word2vec` (KeyedVectors.load_word2vec_format(.., binary=False, no_header=True) loads GLoVE text vectors.).\n",
            "  glove2word2vec(glove_input_file, word2vec_output_file )\n"
          ]
        },
        {
          "output_type": "execute_result",
          "data": {
            "text/plain": [
              "(400000, 100)"
            ]
          },
          "metadata": {},
          "execution_count": 6
        }
      ]
    },
    {
      "cell_type": "code",
      "source": [
        "  from gensim.models.keyedvectors import KeyedVectors\n",
        "  glove_model = KeyedVectors.load_word2vec_format(\"/content/glove.6B.100d.w2vformat.txt\", binary=False)"
      ],
      "metadata": {
        "id": "hGh_JEM57y7u"
      },
      "execution_count": 8,
      "outputs": []
    },
    {
      "cell_type": "markdown",
      "source": [
        "#### Now u can use all the methods u used with word2vec models"
      ],
      "metadata": {
        "id": "lK0QoV_ugQtf"
      }
    },
    {
      "cell_type": "code",
      "source": [
        "glove_model.most_similar(\"king\")"
      ],
      "metadata": {
        "id": "Repa8oe6gY9l",
        "colab": {
          "base_uri": "https://localhost:8080/"
        },
        "outputId": "ca00d7e9-080c-40ff-eefb-def2c2567aef"
      },
      "execution_count": 9,
      "outputs": [
        {
          "output_type": "execute_result",
          "data": {
            "text/plain": [
              "[('prince', 0.7682328820228577),\n",
              " ('queen', 0.7507690787315369),\n",
              " ('son', 0.7020888328552246),\n",
              " ('brother', 0.6985775232315063),\n",
              " ('monarch', 0.6977890729904175),\n",
              " ('throne', 0.6919989585876465),\n",
              " ('kingdom', 0.6811409592628479),\n",
              " ('father', 0.6802029013633728),\n",
              " ('emperor', 0.6712858080863953),\n",
              " ('ii', 0.6676074266433716)]"
            ]
          },
          "metadata": {},
          "execution_count": 9
        }
      ]
    },
    {
      "cell_type": "code",
      "source": [
        "glove_model.most_similar(positive=['woman', 'king'], negative =['man'], topn=5)"
      ],
      "metadata": {
        "id": "OPmyH545gkhR",
        "colab": {
          "base_uri": "https://localhost:8080/"
        },
        "outputId": "262e7d6d-3ccb-461a-bba3-e5bc37c03221"
      },
      "execution_count": 10,
      "outputs": [
        {
          "output_type": "execute_result",
          "data": {
            "text/plain": [
              "[('queen', 0.7698540687561035),\n",
              " ('monarch', 0.6843381524085999),\n",
              " ('throne', 0.6755736470222473),\n",
              " ('daughter', 0.6594556570053101),\n",
              " ('princess', 0.6520534157752991)]"
            ]
          },
          "metadata": {},
          "execution_count": 10
        }
      ]
    },
    {
      "cell_type": "code",
      "source": [
        "glove_model.most_similar(positive=['woman', 'hero'], negative =['man'], topn=5)"
      ],
      "metadata": {
        "id": "Bm8QJMmEgkeF",
        "colab": {
          "base_uri": "https://localhost:8080/"
        },
        "outputId": "349948da-39ec-4452-b6cd-8176f434255b"
      },
      "execution_count": 11,
      "outputs": [
        {
          "output_type": "execute_result",
          "data": {
            "text/plain": [
              "[('heroine', 0.732498049736023),\n",
              " ('heroes', 0.6356217861175537),\n",
              " ('icon', 0.6185224056243896),\n",
              " ('beloved', 0.6136684417724609),\n",
              " ('herself', 0.5904076099395752)]"
            ]
          },
          "metadata": {},
          "execution_count": 11
        }
      ]
    },
    {
      "cell_type": "code",
      "source": [],
      "metadata": {
        "id": "SGr2qUgVgkb_"
      },
      "execution_count": null,
      "outputs": []
    },
    {
      "cell_type": "code",
      "source": [],
      "metadata": {
        "id": "VqZKfb4QgkZR"
      },
      "execution_count": null,
      "outputs": []
    },
    {
      "cell_type": "code",
      "source": [],
      "metadata": {
        "id": "ejtwHlbkgkWi"
      },
      "execution_count": null,
      "outputs": []
    },
    {
      "cell_type": "code",
      "source": [],
      "metadata": {
        "id": "aNAUImIMgkUB"
      },
      "execution_count": null,
      "outputs": []
    },
    {
      "cell_type": "code",
      "source": [],
      "metadata": {
        "id": "4yhS7etggkRq"
      },
      "execution_count": null,
      "outputs": []
    },
    {
      "cell_type": "code",
      "source": [],
      "metadata": {
        "id": "rf8GFbGogkPO"
      },
      "execution_count": null,
      "outputs": []
    }
  ]
}