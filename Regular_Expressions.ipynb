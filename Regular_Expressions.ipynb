{
  "nbformat": 4,
  "nbformat_minor": 0,
  "metadata": {
    "colab": {
      "provenance": [],
      "authorship_tag": "ABX9TyMltYbeaFS8t/HgW9bQNNE/",
      "include_colab_link": true
    },
    "kernelspec": {
      "name": "python3",
      "display_name": "Python 3"
    },
    "language_info": {
      "name": "python"
    }
  },
  "cells": [
    {
      "cell_type": "markdown",
      "metadata": {
        "id": "view-in-github",
        "colab_type": "text"
      },
      "source": [
        "<a href=\"https://colab.research.google.com/github/pratikshaa12/NLP/blob/main/Regular_Expressions.ipynb\" target=\"_parent\"><img src=\"https://colab.research.google.com/assets/colab-badge.svg\" alt=\"Open In Colab\"/></a>"
      ]
    },
    {
      "cell_type": "code",
      "execution_count": 1,
      "metadata": {
        "id": "slNsLF_KjvCI"
      },
      "outputs": [],
      "source": [
        "import re"
      ]
    },
    {
      "cell_type": "code",
      "source": [
        "re.search('Ravi', 'Ram is an exceptional student!')"
      ],
      "metadata": {
        "id": "u4XZg750jz2c"
      },
      "execution_count": 2,
      "outputs": []
    },
    {
      "cell_type": "code",
      "source": [
        "# print output of re.search()\n",
        "name = re.search('Ravi', 'Ravi is an exceptional student!')\n",
        "print(name.group())"
      ],
      "metadata": {
        "colab": {
          "base_uri": "https://localhost:8080/"
        },
        "id": "FfPYtdEXjz46",
        "outputId": "cf69e549-46af-4140-e7b5-4e4c69692c9e"
      },
      "execution_count": 3,
      "outputs": [
        {
          "output_type": "stream",
          "name": "stdout",
          "text": [
            "Ravi\n"
          ]
        }
      ]
    },
    {
      "cell_type": "code",
      "source": [
        "def find_pattern(text, patterns):\n",
        " if re.search(patterns, text):\n",
        "    return re.search(patterns, text)\n",
        " else:\n",
        "    return 'Not Found!'"
      ],
      "metadata": {
        "id": "LKEAYkSujz7s"
      },
      "execution_count": 13,
      "outputs": []
    },
    {
      "cell_type": "markdown",
      "source": [
        "#### Quantifiers"
      ],
      "metadata": {
        "id": "FR0zgDZSl44z"
      }
    },
    {
      "cell_type": "code",
      "source": [
        "# '?': zero or one (tells whether a pattern is absent or present)\n",
        "print(find_pattern(\"ac\", \"ab?\"))\n",
        "print(find_pattern(\"abc\", \"ab?\"))\n",
        "print(find_pattern(\"abbc\", \"ab?\"))\n",
        "\n"
      ],
      "metadata": {
        "colab": {
          "base_uri": "https://localhost:8080/"
        },
        "id": "h_3k7W00jz-S",
        "outputId": "714d223d-dd7c-4678-9ba8-7c25c970236c"
      },
      "execution_count": 14,
      "outputs": [
        {
          "output_type": "stream",
          "name": "stdout",
          "text": [
            "<re.Match object; span=(0, 1), match='a'>\n",
            "<re.Match object; span=(0, 2), match='ab'>\n",
            "<re.Match object; span=(0, 2), match='ab'>\n"
          ]
        }
      ]
    },
    {
      "cell_type": "code",
      "source": [
        "# '*' : zero or more \",\n",
        "print(find_pattern(\"ac\", \"ab*\"))\n",
        "print(find_pattern(\"abc\", \"ab*\"))\n",
        "print(find_pattern(\"abbbbbbc\", \"ab*\"))\n"
      ],
      "metadata": {
        "colab": {
          "base_uri": "https://localhost:8080/"
        },
        "id": "oPOtSo8wj0Bd",
        "outputId": "4e016388-f9ff-470f-c076-f82a8a5ceed7"
      },
      "execution_count": 15,
      "outputs": [
        {
          "output_type": "stream",
          "name": "stdout",
          "text": [
            "<re.Match object; span=(0, 1), match='a'>\n",
            "<re.Match object; span=(0, 2), match='ab'>\n",
            "<re.Match object; span=(0, 7), match='abbbbbb'>\n"
          ]
        }
      ]
    },
    {
      "cell_type": "code",
      "source": [
        "# '+' : one or more\n",
        "print(find_pattern(\"ac\", \"ab+\"))\n",
        "print(find_pattern(\"abc\", \"ab+\"))\n",
        "print(find_pattern(\"abbc\", \"ab+\"))\n",
        "\n"
      ],
      "metadata": {
        "colab": {
          "base_uri": "https://localhost:8080/"
        },
        "id": "MZJbju7Sj0De",
        "outputId": "ade4ad64-0d39-4104-b24f-5a17d4b6fb4a"
      },
      "execution_count": 17,
      "outputs": [
        {
          "output_type": "stream",
          "name": "stdout",
          "text": [
            "Not Found!\n",
            "<re.Match object; span=(0, 2), match='ab'>\n",
            "<re.Match object; span=(0, 3), match='abb'>\n"
          ]
        }
      ]
    },
    {
      "cell_type": "code",
      "source": [
        "# {n} : matches if a character  is present exactly an number of times\n",
        "print(find_pattern(\"abbbc\", \"ab{4}\"))"
      ],
      "metadata": {
        "colab": {
          "base_uri": "https://localhost:8080/"
        },
        "id": "7zx0rqYGj0Ge",
        "outputId": "07e6c2fa-fdb5-47d7-f5f3-61a50ead9e6a"
      },
      "execution_count": 21,
      "outputs": [
        {
          "output_type": "stream",
          "name": "stdout",
          "text": [
            "Not Found!\n"
          ]
        }
      ]
    },
    {
      "cell_type": "code",
      "source": [
        "# {m,n}: matches if a character is present from m to n number of times\n",
        "print(find_pattern(\"aabbbbbbc\", \"ab{3,5}\"))   # return true if 'b' is present 3-5 times\n",
        "print(find_pattern(\"aabbbbbbc\", \"ab{7,10}\"))   # return true if 'b' is present 7-10 times\n",
        "print(find_pattern(\"aabbbbbbc\", \"ab{,10}\"))   # return true if 'b' is present atmost 10 times\n",
        "print(find_pattern(\"aabbbbbbc\", \"ab{10,}\"))   # return true if 'b' is present from at least 10 times\n",
        "\n"
      ],
      "metadata": {
        "colab": {
          "base_uri": "https://localhost:8080/"
        },
        "id": "giD_334pj0J_",
        "outputId": "32172e25-f642-423f-f34e-9a676f46377a"
      },
      "execution_count": 22,
      "outputs": [
        {
          "output_type": "stream",
          "name": "stdout",
          "text": [
            "<re.Match object; span=(1, 7), match='abbbbb'>\n",
            "Not Found!\n",
            "<re.Match object; span=(0, 1), match='a'>\n",
            "Not Found!\n"
          ]
        }
      ]
    },
    {
      "cell_type": "markdown",
      "source": [
        "#### Anchores"
      ],
      "metadata": {
        "id": "aUZ_-QCUrVp7"
      }
    },
    {
      "cell_type": "code",
      "source": [
        "# '^' : indicates start of a string\n",
        "# '$': indicates end of a string\n",
        "print(find_pattern(\"James\", \"^J\"))   # return true if string starts with 'J'\n",
        "print(find_pattern(\"Pramod\", \"^J\"))   # return true if string starts with 'J'\n",
        "print(find_pattern(\"India\", \"a$\"))   # return true if string ends with 'a'\n",
        "print(find_pattern(\"Japan\", \"a$\"))   # return true if string ends with 'a'\n"
      ],
      "metadata": {
        "colab": {
          "base_uri": "https://localhost:8080/"
        },
        "id": "rXdG0HhPqzBK",
        "outputId": "1da828a6-eadf-462e-89ca-ccf2427c92de"
      },
      "execution_count": 24,
      "outputs": [
        {
          "output_type": "stream",
          "name": "stdout",
          "text": [
            "<re.Match object; span=(0, 1), match='J'>\n",
            "Not Found!\n",
            "<re.Match object; span=(4, 5), match='a'>\n",
            "Not Found!\n"
          ]
        }
      ]
    },
    {
      "cell_type": "code",
      "source": [
        "\"James\".startswith(\"J\")"
      ],
      "metadata": {
        "colab": {
          "base_uri": "https://localhost:8080/"
        },
        "id": "3xRHIS_1sOlV",
        "outputId": "42175015-01c9-4099-ba2c-b346e3d97536"
      },
      "execution_count": 25,
      "outputs": [
        {
          "output_type": "execute_result",
          "data": {
            "text/plain": [
              "True"
            ]
          },
          "metadata": {},
          "execution_count": 25
        }
      ]
    },
    {
      "cell_type": "markdown",
      "source": [
        "#### Wildcard"
      ],
      "metadata": {
        "id": "_5Yj3XT2thOf"
      }
    },
    {
      "cell_type": "code",
      "source": [
        "# '.': matches any character\n",
        "print(find_pattern(\"a\", \".\"))\n",
        "print(find_pattern(\"jksndkj\", \".\"))"
      ],
      "metadata": {
        "colab": {
          "base_uri": "https://localhost:8080/"
        },
        "id": "uNqi6E79szFV",
        "outputId": "4974a2d3-5e77-4315-cc72-72da7bd0d5e2"
      },
      "execution_count": 26,
      "outputs": [
        {
          "output_type": "stream",
          "name": "stdout",
          "text": [
            "<re.Match object; span=(0, 1), match='a'>\n",
            "<re.Match object; span=(0, 1), match='j'>\n"
          ]
        }
      ]
    },
    {
      "cell_type": "markdown",
      "source": [
        "#### Character sets"
      ],
      "metadata": {
        "id": "mNpWjpdjtkAB"
      }
    },
    {
      "cell_type": "code",
      "source": [
        "# now we will look at '[' and ']'.\n",
        "# they're used for specifying a character class , which is a set of characters that u wish to match.\n",
        "# characters can be listed individually as follows\n",
        "print(find_pattern(\"d\", \"[abc]\"))\n",
        "\n",
        "# or a range ofbcharacters can be indicated by  giving two characters and separating them by a '.'.\n",
        "print(find_pattern(\"C\", \"[A-Z]\")) # same as above"
      ],
      "metadata": {
        "colab": {
          "base_uri": "https://localhost:8080/"
        },
        "id": "exNSaILKtISC",
        "outputId": "c9b0a56d-6d1b-40f7-fb05-6d7fc523d8fd"
      },
      "execution_count": 29,
      "outputs": [
        {
          "output_type": "stream",
          "name": "stdout",
          "text": [
            "Not Found!\n",
            "<re.Match object; span=(0, 1), match='C'>\n"
          ]
        }
      ]
    },
    {
      "cell_type": "code",
      "source": [
        "# '^' is used inside character set to indicate complementary set\n",
        "print(find_pattern(\"b\", \"^abc\"))  # return true if neither of these is present -a, b or c\n"
      ],
      "metadata": {
        "colab": {
          "base_uri": "https://localhost:8080/"
        },
        "id": "7TfJD1Fhu4_e",
        "outputId": "1dc57c5e-1499-4121-84d0-b4658dbaee87"
      },
      "execution_count": 33,
      "outputs": [
        {
          "output_type": "stream",
          "name": "stdout",
          "text": [
            "Not Found!\n"
          ]
        }
      ]
    },
    {
      "cell_type": "code",
      "source": [
        "# this function uses the re.match() and let see how it differs from re.search()\n",
        "def match_pattern(text,patterns):\n",
        "  if re.match(patterns, text):\n",
        "    return re.match(patterns, text)\n",
        "  else:\n",
        "    return('Not found!')"
      ],
      "metadata": {
        "id": "7RXfwxQxvw3Q"
      },
      "execution_count": 34,
      "outputs": []
    },
    {
      "cell_type": "code",
      "source": [
        "print(find_pattern(\"abbc\", \"b+\"))"
      ],
      "metadata": {
        "colab": {
          "base_uri": "https://localhost:8080/"
        },
        "id": "qrQJqOTFvw5c",
        "outputId": "e6ad7915-c679-4cd8-efe9-be233d1f8b1e"
      },
      "execution_count": 36,
      "outputs": [
        {
          "output_type": "stream",
          "name": "stdout",
          "text": [
            "<re.Match object; span=(1, 3), match='bb'>\n"
          ]
        }
      ]
    },
    {
      "cell_type": "code",
      "source": [
        "print(match_pattern(\"abbc\", \"b+\"))"
      ],
      "metadata": {
        "colab": {
          "base_uri": "https://localhost:8080/"
        },
        "id": "ZqRJ7MXFvw8I",
        "outputId": "b0ea74d4-0e51-4a62-e581-d1dbd404ee27"
      },
      "execution_count": 37,
      "outputs": [
        {
          "output_type": "stream",
          "name": "stdout",
          "text": [
            "Not found!\n"
          ]
        }
      ]
    },
    {
      "cell_type": "code",
      "source": [
        "## example usage of the sub() function replace Road with rd\n",
        "\n",
        "street = '21 Ramakrishna Road'\n",
        "print(re.sub('Road', 'Rd', street))"
      ],
      "metadata": {
        "colab": {
          "base_uri": "https://localhost:8080/"
        },
        "id": "CyMlgAXDvw-p",
        "outputId": "0e874a4c-c7b1-4ee4-8c9b-e6a87be009f6"
      },
      "execution_count": 38,
      "outputs": [
        {
          "output_type": "stream",
          "name": "stdout",
          "text": [
            "21 Ramakrishna Rd\n"
          ]
        }
      ]
    },
    {
      "cell_type": "code",
      "source": [
        "print(re.sub('R\\w+', 'Rd', street))\n"
      ],
      "metadata": {
        "colab": {
          "base_uri": "https://localhost:8080/"
        },
        "id": "J_RXdUrlvxBf",
        "outputId": "9a3221ee-5998-4ff1-cd28-4d59495cbee0"
      },
      "execution_count": 39,
      "outputs": [
        {
          "output_type": "stream",
          "name": "stdout",
          "text": [
            "21 Rd Rd\n"
          ]
        }
      ]
    },
    {
      "cell_type": "code",
      "source": [
        "## example usage of finditer(), find all occurrences of word festival in given sentence\n",
        "\n",
        "text = 'Diwali is a festival of lights, Holi is a festival of colors!'\n",
        "pattern = 'festival'\n",
        "for match in re.finditer(pattern, text):\n",
        "  print('START -', match.start(),end=\"\")\n",
        "  print('END -', match.end())"
      ],
      "metadata": {
        "colab": {
          "base_uri": "https://localhost:8080/"
        },
        "id": "gSK-CWH9vxFG",
        "outputId": "88959f94-8752-4829-c497-a55881000c8f"
      },
      "execution_count": 40,
      "outputs": [
        {
          "output_type": "stream",
          "name": "stdout",
          "text": [
            "START - 12END - 20\n",
            "START - 42END - 50\n"
          ]
        }
      ]
    },
    {
      "cell_type": "code",
      "source": [
        "# example usage of findall() in the given URL find all dates\n",
        "url = \"https://www.example.com/events/2025/02/06/\"\n",
        "date_regex='/(\\d{4})/(\\d{1,2})/(\\d{1,2})/'\n",
        "print(re.findall(date_regex, url))"
      ],
      "metadata": {
        "colab": {
          "base_uri": "https://localhost:8080/"
        },
        "id": "Bq9aVCP96vwR",
        "outputId": "115cacee-d234-489c-9181-7da217e39890"
      },
      "execution_count": 43,
      "outputs": [
        {
          "output_type": "stream",
          "name": "stdout",
          "text": [
            "[('2025', '02', '06')]\n"
          ]
        }
      ]
    },
    {
      "cell_type": "code",
      "source": [
        "## Exploring groups\n",
        "m1 = re.search(date_regex, url)\n",
        "print(m1.group())  # print the matched group"
      ],
      "metadata": {
        "colab": {
          "base_uri": "https://localhost:8080/"
        },
        "id": "hifC6TCx9QBO",
        "outputId": "343a0da0-49db-405e-f3e6-e1862835fe65"
      },
      "execution_count": 45,
      "outputs": [
        {
          "output_type": "stream",
          "name": "stdout",
          "text": [
            "/2025/02/06/\n"
          ]
        }
      ]
    },
    {
      "cell_type": "code",
      "source": [
        "print(m1.group(1)) # print first group"
      ],
      "metadata": {
        "colab": {
          "base_uri": "https://localhost:8080/"
        },
        "id": "wVjJ5wN597Em",
        "outputId": "38ece525-93b4-4e8a-81b2-2f9b4f907f23"
      },
      "execution_count": 46,
      "outputs": [
        {
          "output_type": "stream",
          "name": "stdout",
          "text": [
            "2025\n"
          ]
        }
      ]
    },
    {
      "cell_type": "code",
      "source": [
        "print(m1.group(2))  #print second group"
      ],
      "metadata": {
        "colab": {
          "base_uri": "https://localhost:8080/"
        },
        "id": "E87juI7A-D7p",
        "outputId": "d1f3ac95-0af1-4b65-f7eb-3942de9585c9"
      },
      "execution_count": 47,
      "outputs": [
        {
          "output_type": "stream",
          "name": "stdout",
          "text": [
            "02\n"
          ]
        }
      ]
    },
    {
      "cell_type": "code",
      "source": [],
      "metadata": {
        "id": "5vHtV1yI-McH"
      },
      "execution_count": null,
      "outputs": []
    }
  ]
}